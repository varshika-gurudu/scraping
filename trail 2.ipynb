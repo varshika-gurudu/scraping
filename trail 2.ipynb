{
 "cells": [
  {
   "cell_type": "code",
   "execution_count": 128,
   "metadata": {},
   "outputs": [],
   "source": [
    "from selenium import webdriver\n",
    "from selenium.webdriver.common.keys import Keys\n",
    "import selenium.webdriver.support.ui as UI\n",
    "import time\n",
    "import pandas as pd\n",
    "from selenium.common.exceptions import StaleElementReferenceException\n",
    "import csv\n",
    "import mysql.connector\n",
    "from sqlalchemy import create_engine"
   ]
  },
  {
   "cell_type": "code",
   "execution_count": 130,
   "metadata": {},
   "outputs": [],
   "source": [
    "driver = webdriver.Chrome(\"C:/Users/varsh/Desktop/test project/files/chromedriver_win32/chromedriver.exe\")\n",
    "driver.implicitly_wait(5)\n",
    "driver.maximize_window()\n",
    "driver.get('https://www.homedepot.com/')\n",
    "driver.find_element_by_xpath('//*[@id=\"shop by category​\"]/div[2]/div/div/nav/div[1]/a[2]').click()\n",
    "driver.find_element_by_xpath('//*[@id=\"container\"]/div[4]/div[3]/div[2]/div/div/div[2]/div/div/nav/div[1]/a[2]').click()\n",
    "french_fridge = driver.find_element_by_xpath('//*[@id=\"container\"]/div[4]/div[3]/div[2]/div/div/div[4]/div/div/div/div/a[2]').click()"
   ]
  },
  {
   "cell_type": "code",
   "execution_count": 131,
   "metadata": {},
   "outputs": [],
   "source": [
    "refrig_byclass = driver.find_elements_by_class_name('js-podclick-analytics')"
   ]
  },
  {
   "cell_type": "code",
   "execution_count": 132,
   "metadata": {},
   "outputs": [],
   "source": [
    "refrig_byclass_list = [x.get_attribute('href') for x in refrig_byclass]"
   ]
  },
  {
   "cell_type": "code",
   "execution_count": 133,
   "metadata": {},
   "outputs": [
    {
     "data": {
      "text/plain": [
       "[]"
      ]
     },
     "execution_count": 133,
     "metadata": {},
     "output_type": "execute_result"
    }
   ],
   "source": [
    "refrig_byclass_list\n"
   ]
  },
  {
   "cell_type": "code",
   "execution_count": 134,
   "metadata": {},
   "outputs": [],
   "source": [
    "french_fridge_list = [] #creating a list to store links and removing duplicate links\n"
   ]
  },
  {
   "cell_type": "code",
   "execution_count": 135,
   "metadata": {},
   "outputs": [],
   "source": [
    "for i in refrig_byclass_list:        \n",
    "    if i not in french_fridge_list:\n",
    "        if i != None:\n",
    "            french_fridge_list.append(i)"
   ]
  },
  {
   "cell_type": "code",
   "execution_count": 136,
   "metadata": {},
   "outputs": [
    {
     "data": {
      "text/plain": [
       "[]"
      ]
     },
     "execution_count": 136,
     "metadata": {},
     "output_type": "execute_result"
    }
   ],
   "source": [
    "french_fridge_list"
   ]
  },
  {
   "cell_type": "code",
   "execution_count": 137,
   "metadata": {},
   "outputs": [
    {
     "data": {
      "text/plain": [
       "0"
      ]
     },
     "execution_count": 137,
     "metadata": {},
     "output_type": "execute_result"
    }
   ],
   "source": [
    "len(french_fridge_list)"
   ]
  },
  {
   "cell_type": "code",
   "execution_count": 138,
   "metadata": {},
   "outputs": [
    {
     "data": {
      "text/plain": [
       "list"
      ]
     },
     "execution_count": 138,
     "metadata": {},
     "output_type": "execute_result"
    }
   ],
   "source": [
    "type(french_fridge_list)"
   ]
  },
  {
   "cell_type": "code",
   "execution_count": null,
   "metadata": {},
   "outputs": [],
   "source": [
    "title_list = []\n",
    "price_list = []\n",
    "for link in french_fridge_list[0:2]:\n",
    "   \n",
    "    try:\n",
    "        driver.get(link)\n",
    "        title = driver.find_elements_by_class_name('product-title')[0].text\n",
    "        title_list.append(title)\n",
    "        price = driver.find_elements_by_xpath('//*[@id=\"eco-rebate-price\"]/div[1]/div/span[2]')[0].text\n",
    "        price_list.append(price)\n",
    "        driver.implicitly_wait(1)\n",
    "       \n",
    "    except StaleElementReferenceException:\n",
    "        print('error occured')\n",
    "        continue\n",
    "    #break\n",
    "\n",
    "pd.DataFrame(price_list,title_list)\n"
   ]
  },
  {
   "cell_type": "code",
   "execution_count": 98,
   "metadata": {},
   "outputs": [],
   "source": [
    "data_list = pd.DataFrame([title_list],[price_list],columns=['price','name'])"
   ]
  },
  {
   "cell_type": "code",
   "execution_count": 99,
   "metadata": {},
   "outputs": [
    {
     "data": {
      "text/html": [
       "<div>\n",
       "<style scoped>\n",
       "    .dataframe tbody tr th:only-of-type {\n",
       "        vertical-align: middle;\n",
       "    }\n",
       "\n",
       "    .dataframe tbody tr th {\n",
       "        vertical-align: top;\n",
       "    }\n",
       "\n",
       "    .dataframe thead th {\n",
       "        text-align: right;\n",
       "    }\n",
       "</style>\n",
       "<table border=\"1\" class=\"dataframe\">\n",
       "  <thead>\n",
       "    <tr style=\"text-align: right;\">\n",
       "      <th></th>\n",
       "      <th>price</th>\n",
       "      <th>name</th>\n",
       "    </tr>\n",
       "  </thead>\n",
       "  <tbody>\n",
       "    <tr>\n",
       "      <th>2608</th>\n",
       "      <td>27.8 cu. ft. 4 Door French Door Smart Refriger...</td>\n",
       "      <td>25 cu. ft. French Door Refrigerator in Fingerp...</td>\n",
       "    </tr>\n",
       "    <tr>\n",
       "      <th>2499</th>\n",
       "      <td>27.8 cu. ft. 4 Door French Door Smart Refriger...</td>\n",
       "      <td>25 cu. ft. French Door Refrigerator in Fingerp...</td>\n",
       "    </tr>\n",
       "  </tbody>\n",
       "</table>\n",
       "</div>"
      ],
      "text/plain": [
       "                                                  price  \\\n",
       "2608  27.8 cu. ft. 4 Door French Door Smart Refriger...   \n",
       "2499  27.8 cu. ft. 4 Door French Door Smart Refriger...   \n",
       "\n",
       "                                                   name  \n",
       "2608  25 cu. ft. French Door Refrigerator in Fingerp...  \n",
       "2499  25 cu. ft. French Door Refrigerator in Fingerp...  "
      ]
     },
     "execution_count": 99,
     "metadata": {},
     "output_type": "execute_result"
    }
   ],
   "source": [
    "data_list"
   ]
  },
  {
   "cell_type": "code",
   "execution_count": 71,
   "metadata": {},
   "outputs": [],
   "source": [
    "with open('french_fridge_products.csv','w') as csv_file:\n",
    "    \n",
    "    writer = csv.writer(csv_file)\n",
    "    writer.writerow([\"SN\", \"Name\", \"Contribution\"])\n",
    "    writer.writerow([1, \"Linus Torvalds\", \"Linux Kernel\"])\n",
    "    writer.writerow([2, \"Tim Berners-Lee\", \"World Wide Web\"])\n",
    "    writer.writerow([3, \"Guido van Rossum\", \"Python Programming\"])"
   ]
  },
  {
   "cell_type": "code",
   "execution_count": 102,
   "metadata": {},
   "outputs": [],
   "source": [
    "data_list.to_csv('french_fridges_file.csv')"
   ]
  },
  {
   "cell_type": "code",
   "execution_count": 103,
   "metadata": {},
   "outputs": [],
   "source": [
    "new_data_list = pd.read_csv('french_fridges_file.csv')"
   ]
  },
  {
   "cell_type": "code",
   "execution_count": 104,
   "metadata": {},
   "outputs": [
    {
     "data": {
      "text/html": [
       "<div>\n",
       "<style scoped>\n",
       "    .dataframe tbody tr th:only-of-type {\n",
       "        vertical-align: middle;\n",
       "    }\n",
       "\n",
       "    .dataframe tbody tr th {\n",
       "        vertical-align: top;\n",
       "    }\n",
       "\n",
       "    .dataframe thead th {\n",
       "        text-align: right;\n",
       "    }\n",
       "</style>\n",
       "<table border=\"1\" class=\"dataframe\">\n",
       "  <thead>\n",
       "    <tr style=\"text-align: right;\">\n",
       "      <th></th>\n",
       "      <th>Unnamed: 0</th>\n",
       "      <th>price</th>\n",
       "      <th>name</th>\n",
       "    </tr>\n",
       "  </thead>\n",
       "  <tbody>\n",
       "    <tr>\n",
       "      <th>0</th>\n",
       "      <td>2608</td>\n",
       "      <td>27.8 cu. ft. 4 Door French Door Smart Refriger...</td>\n",
       "      <td>25 cu. ft. French Door Refrigerator in Fingerp...</td>\n",
       "    </tr>\n",
       "    <tr>\n",
       "      <th>1</th>\n",
       "      <td>2499</td>\n",
       "      <td>27.8 cu. ft. 4 Door French Door Smart Refriger...</td>\n",
       "      <td>25 cu. ft. French Door Refrigerator in Fingerp...</td>\n",
       "    </tr>\n",
       "  </tbody>\n",
       "</table>\n",
       "</div>"
      ],
      "text/plain": [
       "   Unnamed: 0                                              price  \\\n",
       "0        2608  27.8 cu. ft. 4 Door French Door Smart Refriger...   \n",
       "1        2499  27.8 cu. ft. 4 Door French Door Smart Refriger...   \n",
       "\n",
       "                                                name  \n",
       "0  25 cu. ft. French Door Refrigerator in Fingerp...  \n",
       "1  25 cu. ft. French Door Refrigerator in Fingerp...  "
      ]
     },
     "execution_count": 104,
     "metadata": {},
     "output_type": "execute_result"
    }
   ],
   "source": [
    "new_data_list"
   ]
  },
  {
   "cell_type": "code",
   "execution_count": 106,
   "metadata": {},
   "outputs": [],
   "source": [
    "import mysql.connector\n",
    "from sqlalchemy import create_engine\n"
   ]
  },
  {
   "cell_type": "code",
   "execution_count": 142,
   "metadata": {},
   "outputs": [],
   "source": [
    "l = [1,2,3,4,4,4,5,6]\n",
    "a = l[0:1:1]"
   ]
  },
  {
   "cell_type": "code",
   "execution_count": 143,
   "metadata": {},
   "outputs": [
    {
     "data": {
      "text/plain": [
       "[1]"
      ]
     },
     "execution_count": 143,
     "metadata": {},
     "output_type": "execute_result"
    }
   ],
   "source": [
    "a"
   ]
  },
  {
   "cell_type": "code",
   "execution_count": null,
   "metadata": {},
   "outputs": [],
   "source": []
  }
 ],
 "metadata": {
  "kernelspec": {
   "display_name": "Python 3",
   "language": "python",
   "name": "python3"
  },
  "language_info": {
   "codemirror_mode": {
    "name": "ipython",
    "version": 3
   },
   "file_extension": ".py",
   "mimetype": "text/x-python",
   "name": "python",
   "nbconvert_exporter": "python",
   "pygments_lexer": "ipython3",
   "version": "3.8.3"
  }
 },
 "nbformat": 4,
 "nbformat_minor": 4
}
