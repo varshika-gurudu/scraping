{
 "cells": [
  {
   "cell_type": "code",
   "execution_count": 385,
   "metadata": {},
   "outputs": [],
   "source": [
    "from selenium import webdriver\n",
    "from selenium.webdriver.common.keys import Keys\n",
    "import selenium.webdriver.support.ui as UI\n",
    "import time\n",
    "import pandas as pd\n"
   ]
  },
  {
   "cell_type": "code",
   "execution_count": 386,
   "metadata": {},
   "outputs": [],
   "source": [
    "\n",
    "driver = webdriver.Chrome(\"C:/Users/varsh/Desktop/test project/files/chromedriver_win32/chromedriver.exe\")\n",
    "driver.implicitly_wait(5)\n",
    "driver.maximize_window()\n",
    "driver.get('https://www.homedepot.com/')"
   ]
  },
  {
   "cell_type": "code",
   "execution_count": 387,
   "metadata": {},
   "outputs": [],
   "source": [
    "driver.find_element_by_xpath('//*[@id=\"shop_by_category\"]/div[2]/div/div/nav/div[1]/a[1]').click()\n",
    "#driver.find_element_by_xpath('//*[@id=\"Shop By Category\"]/div[2]/div/div/nav/div[1]/a[2]').click()\n",
    "driver.find_element_by_xpath('//*[@id=\"container\"]/div[4]/div[3]/div[1]/div/div/div/div/div[7]/nav/a').click()\n",
    "\n",
    "\n"
   ]
  },
  {
   "cell_type": "code",
   "execution_count": null,
   "metadata": {},
   "outputs": [],
   "source": [
    "refrig_data = driver.find_elements_by_xpath('//*[@id=\"root\"]/div/div[2]/div/div[6]/div[2]')"
   ]
  },
  {
   "cell_type": "code",
   "execution_count": null,
   "metadata": {},
   "outputs": [],
   "source": [
    "refrig_list = [x.text for x in refrig_data][0].split('\\nCompare\\n')"
   ]
  },
  {
   "cell_type": "code",
   "execution_count": 87,
   "metadata": {},
   "outputs": [
    {
     "data": {
      "text/plain": [
       "['Best Seller\\nLG Electronics27.8 cu. ft. 4 Door French Door Smart Refrigerator with 2 Freezer Drawers and Wi-Fi Enabled in Stainless Steel\\n(1173)\\nModel# LMXS28626S\\n$289900\\nInstallation Depth\\nStandard Depth\\nTotal Capacity (cu. ft.)\\n27.8\\nIce/Water Dispenser\\nBoth\\nDepth\\n33.75\\nNo of Doors\\n4 Door\\nFree Delivery\\nAdd To Cart',\n",
       " 'Whirlpool25 cu. ft. French Door Refrigerator in Fingerprint Resistant Stainless Steel\\n(6076)\\nModel# WRX735SDHZ\\n$249900\\nInstallation Depth\\nStandard Depth\\nTotal Capacity (cu. ft.)\\n24.5\\nIce/Water Dispenser\\nBoth\\nDepth\\n32.13\\nNo of Doors\\n4 Door\\nFree Delivery\\nAdd To Cart',\n",
       " 'Samsung27 cu. ft. French Door Refrigerator in Fingerprint Resistant Black Stainless Steel\\n(437)\\nModel# RF27T5201SG\\n$189800$2399.00\\nSave $501.00 (21%)\\nInstallation Depth\\nStandard Depth\\nTotal Capacity (cu. ft.)\\n27\\nIce/Water Dispenser\\nBoth\\nDepth\\n32.8\\nHeight to Top of Door Hinge (in.)\\n70\\nFree Delivery\\nAdd To Cart',\n",
       " 'GEProfile 27.9 cu. ft. Smart 4-Door French Door Refrigerator with Door in Door in Fingerprint Resistant Stainless Steel\\n(1235)\\nModel# PVD28BYNFS\\n$341800$3799.00\\nSave $381.00 (10%)\\nGet up to $2,000 in Rebates for 06119\\nInstallation Depth\\nStandard Depth\\nTotal Capacity (cu. ft.)\\n27.9\\nIce/Water Dispenser\\nBoth\\nDepth\\n34.25\\nNo of Doors\\n4 Door\\nFree Delivery\\nAdd To Cart',\n",
       " 'LG Electronics30 in. W 21.8 cu. ft. French Door Refrigerator in Stainless Steel\\n(655)\\nModel# LFC22770ST\\n$179900\\nInstallation Depth\\nStandard Depth\\nTotal Capacity (cu. ft.)\\n21.8\\nIce/Water Dispenser\\nNone\\nDepth\\n33\\nNo of Doors\\n3 Door\\nFree Delivery\\nAdd To Cart',\n",
       " 'LG Electronics30 in. W 21.8 cu. ft. French Door Refrigerator in Stainless Steel\\n(2533)\\nModel# LFCS22520S\\n$169900\\nInstallation Depth\\nStandard Depth\\nTotal Capacity (cu. ft.)\\n21.8\\nIce/Water Dispenser\\nNone\\nDepth\\n33.25\\nNo of Doors\\n3 Door\\nFree Delivery\\nAdd To Cart',\n",
       " 'Whirlpool25 cu. ft. French Door Refrigerator in Fingerprint-Resistant Stainless Steel\\n(4203)\\nModel# WRF555SDFZ\\n$219900\\nInstallation Depth\\nStandard Depth\\nTotal Capacity (cu. ft.)\\n25\\nIce/Water Dispenser\\nBoth\\nDepth\\n32.88\\nNo of Doors\\n3 Door\\nFree Delivery\\nAdd To Cart',\n",
       " 'Samsung33 in. W 17.5 cu. ft. French Door Refrigerator in Stainless Steel and Counter Depth\\n(1800)\\nModel# RF18HFENBSR-2\\n$124800$1384.00\\nSave $136.00 (10%)\\nInstallation Depth\\nCounter Depth\\nTotal Capacity (cu. ft.)\\n17.5\\nIce/Water Dispenser\\nNone\\nDepth\\n28.14\\nNo of Doors\\n2 Door\\nFree Delivery\\nAdd To Cart',\n",
       " 'LG Electronics22 cu. ft. French Door Smart Refrigerator with Wi-Fi Enabled in Stainless Steel, Counter Depth\\n(1414)\\nModel# LFXC22526S\\n$229800$2549.00\\nSave $251.00 (10%)\\nInstallation Depth\\nCounter Depth\\nTotal Capacity (cu. ft.)\\n22.1\\nIce/Water Dispenser\\nBoth\\nDepth\\n28.75\\nNo of Doors\\n3 Door\\nFree Delivery\\nAdd To Cart',\n",
       " 'Samsung28 cu. ft. 4-Door French Door Refrigerator in Fingerprint Resistant Stainless Steel\\n(1258)\\nModel# RF28R7201SR\\n$269800$2999.00\\nSave $301.00 (10%)\\nInstallation Depth\\nStandard Depth\\nTotal Capacity (cu. ft.)\\n28\\nIce/Water Dispenser\\nBoth\\nDepth\\n34\\nNo of Doors\\n4 Door\\nFree Delivery\\nAdd To Cart',\n",
       " 'GE27.0 cu. ft. French Door Refrigerator in Fingerprint Resistant Stainless Steel, ENERGY STAR\\n(3164)\\nModel# GNE27JYMFS\\n$197800$2199.00\\nSave $221.00 (10%)\\nInstallation Depth\\nStandard Depth\\nTotal Capacity (cu. ft.)\\n27\\nIce/Water Dispenser\\nWater Only\\nDepth\\n33.38\\nNo of Doors\\n3 Door\\nFree Delivery\\nAdd To Cart',\n",
       " 'LG Electronics26.2 cu. ft. French Door Smart Refrigerator with Wi-Fi Enabled in Stainless Steel\\n(1812)\\nModel# LFXS26973S\\n$219800$2449.00\\nSave $251.00 (10%)\\nInstallation Depth\\nStandard Depth\\nTotal Capacity (cu. ft.)\\n26.2\\nIce/Water Dispenser\\nBoth\\nDepth\\n32.38\\nNo of Doors\\n3 Door\\nFree Delivery\\nAdd To Cart',\n",
       " 'Project Guide\\nHow to Clean a Refrigerator\\nGive your fridge regular cleanings to make it look like new inside and out\\nRead Our Guide\\nBuying Guide\\nBest Refrigerators For Your Home\\nSee Our Tips\\nSamsung28.2 cu. ft. French Door Refrigerator in Stainless Steel\\n(112)\\nModel# RF28T5001SR\\n$170800$1899.00\\nSave $191.00 (10%)\\nInstallation Depth\\nStandard Depth\\nTotal Capacity (cu. ft.)\\n28.2\\nIce/Water Dispenser\\nNone\\nDepth\\n32.8 in\\nNo of Doors\\n3 Door\\nFree Delivery\\nAdd To Cart',\n",
       " 'GE18.6 cu. ft. French Door Refrigerator in Stainless Steel, Counter Depth\\n(2143)\\nModel# GWE19JSLSS\\n$170800$1899.00\\nSave $191.00 (10%)\\nInstallation Depth\\nCounter Depth\\nTotal Capacity (cu. ft.)\\n18.6\\nIce/Water Dispenser\\nWater Only\\nDepth\\n29\\nNo of Doors\\n2 Door\\nFree Delivery\\nAdd To Cart',\n",
       " 'Samsung23 cu. ft. 3-Door French Door Refrigerator in Stainless Steel with CoolSelect Pantry, Counter Depth\\n(922)\\nModel# RF23R6201SR\\n$251800$2799.00\\nSave $281.00 (10%)\\nInstallation Depth\\nCounter Depth\\nTotal Capacity (cu. ft.)\\n22.6\\nIce/Water Dispenser\\nBoth\\nDepth\\n28.5\\nNo of Doors\\n3 Door\\nFree Delivery\\nAdd To Cart',\n",
       " 'LG Electronics23 cu. ft. Counter Depth 3-Door French Door Refrigerator in PrintProof Stainless Steel\\n(511)\\nModel# LFCC22426S\\n$189900\\nInstallation Depth\\nCounter Depth\\nTotal Capacity (cu. ft.)\\n22.8\\nIce/Water Dispenser\\nNone\\nDepth\\n28.75\\nNo of Doors\\n3 Door\\nFree Delivery\\nAdd To Cart',\n",
       " 'LG Electronics33 in. 25 cu. ft. 3-Door French Door Refrigerator in PrintProof Stainless Steel\\n(58)\\nModel# LRFCS25D3S\\n$179900\\nInstallation Depth\\nStandard Depth\\nTotal Capacity (cu. ft.)\\n25.1\\nIce/Water Dispenser\\nNone\\nDepth\\n33 in\\nNo of Doors\\n3 Door\\nFree Delivery\\nAdd To Cart',\n",
       " 'LG Electronics26 cu. ft. 3-Door French Door Smart Refrigerator with InstaView Door-in-Door in Stainless Steel\\n(961)\\nModel# LFXS26596S\\n$304900\\nInstallation Depth\\nStandard Depth\\nTotal Capacity (cu. ft.)\\n26\\nIce/Water Dispenser\\nBoth\\nDepth\\n32.38\\nNo of Doors\\n3 Door\\nFree Delivery\\nAdd To Cart',\n",
       " 'Samsung30 in. W 21.8 cu. ft. French Door Refrigerator in Stainless Steel\\n(1488)\\nModel# RF220NCTASR\\n$149800$1664.00\\nSave $166.00 (10%)\\nInstallation Depth\\nStandard Depth\\nTotal Capacity (cu. ft.)\\n21.8\\nIce/Water Dispenser\\nNone\\nDepth\\n34.75\\nNo of Doors\\n3 Door\\nFree Delivery\\nAdd To Cart',\n",
       " 'GE27.7 cu. ft. French Door Refrigerator in Fingerprint Resistant Stainless Steel, ENERGY STAR\\n(4068)\\nModel# GFE28GYNFS\\n$272800$3029.00\\nSave $301.00 (10%)\\nInstallation Depth\\nStandard Depth\\nTotal Capacity (cu. ft.)\\n27.7\\nIce/Water Dispenser\\nBoth\\nDepth\\n34.75\\nNo of Doors\\n3 Door\\nFree Delivery\\nAdd To Cart',\n",
       " 'LG Electronics29.5 cu.ft. Smart French 4-Door, Door-In-Door Full Convert with Craft Ice Refrigerator in PrintProof Stainless Steel\\n(176)\\nModel# LRMDS3006S\\n$399900\\nGet up to 1 Rebate for 06119\\nInstallation Depth\\nStandard Depth\\nTotal Capacity (cu. ft.)\\n29.5\\nIce/Water Dispenser\\nBoth\\nDepth\\n35.75 in\\nNo of Doors\\n4 Door\\nFree Delivery\\nAdd To Cart',\n",
       " 'Samsung26.5 cu. ft. Family Hub French Door Smart Refrigerator in Fingerprint Resistant Stainless Steel\\n(480)\\nModel# RF27T5501SR\\n$287800$3199.00\\nSave $321.00 (10%)\\nInstallation Depth\\nStandard Depth\\nTotal Capacity (cu. ft.)\\n26.5\\nIce/Water Dispenser\\nBoth\\nDepth\\n32.9\\nHeight to Top of Door Hinge (in.)\\n70\\nFree Delivery\\nAdd To Cart',\n",
       " 'GE24.7 cu. ft. French Door Refrigerator in Stainless Steel, ENERGY STAR\\n(3997)\\nModel# GNE25JSKSS\\n$170800$1899.00\\nSave $191.00 (10%)\\nInstallation Depth\\nStandard Depth\\nTotal Capacity (cu. ft.)\\n24.7\\nIce/Water Dispenser\\nNone\\nDepth\\n35\\nNo of Doors\\n2 Door\\nFree Delivery\\nAdd To Cart',\n",
       " 'Whirlpool25 cu. ft. French Door Refrigerator in Fingerprint Resistant Stainless Steel with Internal Water Dispenser\\n(4832)\\nModel# WRF535SWHZ\\n$189900\\nInstallation Depth\\nStandard Depth\\nTotal Capacity (cu. ft.)\\n25.2\\nIce/Water Dispenser\\nWater Only\\nDepth\\n33\\nNo of Doors\\n3 Door\\nFree Delivery\\nAdd To Cart',\n",
       " '1\\n2\\n3\\n4\\n5\\nShowing 24 of 161 results.']"
      ]
     },
     "execution_count": 87,
     "metadata": {},
     "output_type": "execute_result"
    }
   ],
   "source": [
    "refrig_list"
   ]
  },
  {
   "cell_type": "code",
   "execution_count": 84,
   "metadata": {},
   "outputs": [
    {
     "data": {
      "text/plain": [
       "'Best Seller\\nLG Electronics27.8 cu. ft. 4 Door French Door Smart Refrigerator with 2 Freezer Drawers and Wi-Fi Enabled in Stainless Steel\\n(1173)\\nModel# LMXS28626S\\n$289900\\nInstallation Depth\\nStandard Depth\\nTotal Capacity (cu. ft.)\\n27.8\\nIce/Water Dispenser\\nBoth\\nDepth\\n33.75\\nNo of Doors\\n4 Door\\nFree Delivery\\nAdd To Cart'"
      ]
     },
     "execution_count": 84,
     "metadata": {},
     "output_type": "execute_result"
    }
   ],
   "source": [
    "refrig_list[0]"
   ]
  },
  {
   "cell_type": "code",
   "execution_count": 85,
   "metadata": {},
   "outputs": [
    {
     "data": {
      "text/plain": [
       "'Whirlpool25 cu. ft. French Door Refrigerator in Fingerprint Resistant Stainless Steel\\n(6076)\\nModel# WRX735SDHZ\\n$249900\\nInstallation Depth\\nStandard Depth\\nTotal Capacity (cu. ft.)\\n24.5\\nIce/Water Dispenser\\nBoth\\nDepth\\n32.13\\nNo of Doors\\n4 Door\\nFree Delivery\\nAdd To Cart'"
      ]
     },
     "execution_count": 85,
     "metadata": {},
     "output_type": "execute_result"
    }
   ],
   "source": [
    "refrig_list[1]"
   ]
  },
  {
   "cell_type": "code",
   "execution_count": 13,
   "metadata": {},
   "outputs": [
    {
     "data": {
      "text/plain": [
       "'Samsung27 cu. ft. French Door Refrigerator in Fingerprint Resistant Black Stainless Steel\\n(436)\\nModel# RF27T5201SG\\n$189800$2399.00\\nSave $501.00 (21%)\\nInstallation Depth\\nStandard Depth\\nTotal Capacity (cu. ft.)\\n27\\nIce/Water Dispenser\\nBoth\\nDepth\\n32.8\\nHeight to Top of Door Hinge (in.)\\n70\\nFree Delivery\\nAdd To Cart'"
      ]
     },
     "execution_count": 13,
     "metadata": {},
     "output_type": "execute_result"
    }
   ],
   "source": [
    "refrig_list[2]"
   ]
  },
  {
   "cell_type": "code",
   "execution_count": 14,
   "metadata": {},
   "outputs": [
    {
     "data": {
      "text/plain": [
       "'LG Electronics30 in. W 21.8 cu. ft. French Door Refrigerator in Stainless Steel\\n(655)\\nModel# LFC22770ST\\n$179900\\nInstallation Depth\\nStandard Depth\\nTotal Capacity (cu. ft.)\\n21.8\\nIce/Water Dispenser\\nNone\\nDepth\\n33\\nNo of Doors\\n3 Door\\nFree Delivery\\nAdd To Cart'"
      ]
     },
     "execution_count": 14,
     "metadata": {},
     "output_type": "execute_result"
    }
   ],
   "source": [
    "refrig_list[3]"
   ]
  },
  {
   "cell_type": "code",
   "execution_count": null,
   "metadata": {},
   "outputs": [],
   "source": []
  },
  {
   "cell_type": "code",
   "execution_count": null,
   "metadata": {},
   "outputs": [],
   "source": []
  },
  {
   "cell_type": "code",
   "execution_count": null,
   "metadata": {},
   "outputs": [],
   "source": []
  },
  {
   "cell_type": "code",
   "execution_count": null,
   "metadata": {},
   "outputs": [],
   "source": []
  },
  {
   "cell_type": "code",
   "execution_count": 58,
   "metadata": {},
   "outputs": [],
   "source": [
    "refrig_byclass = driver.find_elements_by_class_name('product-pod--ie-fix')"
   ]
  },
  {
   "cell_type": "code",
   "execution_count": 61,
   "metadata": {},
   "outputs": [],
   "source": [
    "refrig_byclass_list = [x.get_attribute('href') for x in refrig_byclass]"
   ]
  },
  {
   "cell_type": "code",
   "execution_count": 64,
   "metadata": {},
   "outputs": [
    {
     "data": {
      "text/plain": [
       "['https://www.homedepot.com/p/LG-Electronics-27-8-cu-ft-4-Door-French-Door-Smart-Refrigerator-with-2-Freezer-Drawers-and-Wi-Fi-Enabled-in-Stainless-Steel-LMXS28626S/302253240',\n",
       " 'https://www.homedepot.com/p/LG-Electronics-27-8-cu-ft-4-Door-French-Door-Smart-Refrigerator-with-2-Freezer-Drawers-and-Wi-Fi-Enabled-in-Stainless-Steel-LMXS28626S/302253240',\n",
       " None,\n",
       " 'https://www.homedepot.com/p/Whirlpool-25-cu-ft-French-Door-Refrigerator-in-Fingerprint-Resistant-Stainless-Steel-WRX735SDHZ/301859152',\n",
       " 'https://www.homedepot.com/p/Whirlpool-25-cu-ft-French-Door-Refrigerator-in-Fingerprint-Resistant-Stainless-Steel-WRX735SDHZ/301859152',\n",
       " None,\n",
       " 'https://www.homedepot.com/p/Samsung-27-cu-ft-French-Door-Refrigerator-in-Fingerprint-Resistant-Black-Stainless-Steel-RF27T5201SG/312904394',\n",
       " 'https://www.homedepot.com/p/Samsung-27-cu-ft-French-Door-Refrigerator-in-Fingerprint-Resistant-Black-Stainless-Steel-RF27T5201SG/312904394',\n",
       " None,\n",
       " 'https://www.homedepot.com/p/LG-Electronics-30-in-W-21-8-cu-ft-French-Door-Refrigerator-in-Stainless-Steel-LFC22770ST/205033976',\n",
       " 'https://www.homedepot.com/p/LG-Electronics-30-in-W-21-8-cu-ft-French-Door-Refrigerator-in-Stainless-Steel-LFC22770ST/205033976',\n",
       " None,\n",
       " 'https://www.homedepot.com/p/GE-Profile-27-9-cu-ft-Smart-4-Door-French-Door-Refrigerator-with-Door-in-Door-in-Fingerprint-Resistant-Stainless-Steel-PVD28BYNFS/311411352',\n",
       " 'https://www.homedepot.com/p/GE-Profile-27-9-cu-ft-Smart-4-Door-French-Door-Refrigerator-with-Door-in-Door-in-Fingerprint-Resistant-Stainless-Steel-PVD28BYNFS/311411352',\n",
       " None,\n",
       " 'https://www.homedepot.com/p/LG-Electronics-30-in-W-21-8-cu-ft-French-Door-Refrigerator-in-Stainless-Steel-LFCS22520S/206452443',\n",
       " 'https://www.homedepot.com/p/LG-Electronics-30-in-W-21-8-cu-ft-French-Door-Refrigerator-in-Stainless-Steel-LFCS22520S/206452443',\n",
       " None,\n",
       " 'https://www.homedepot.com/p/Whirlpool-25-cu-ft-French-Door-Refrigerator-in-Fingerprint-Resistant-Stainless-Steel-WRF555SDFZ/301711642',\n",
       " 'https://www.homedepot.com/p/Whirlpool-25-cu-ft-French-Door-Refrigerator-in-Fingerprint-Resistant-Stainless-Steel-WRF555SDFZ/301711642',\n",
       " None,\n",
       " 'https://www.homedepot.com/p/Samsung-33-in-W-17-5-cu-ft-French-Door-Refrigerator-in-Stainless-Steel-and-Counter-Depth-RF18HFENBSR-2/302577277',\n",
       " 'https://www.homedepot.com/p/Samsung-33-in-W-17-5-cu-ft-French-Door-Refrigerator-in-Stainless-Steel-and-Counter-Depth-RF18HFENBSR-2/302577277',\n",
       " None,\n",
       " 'https://www.homedepot.com/p/LG-Electronics-22-cu-ft-French-Door-Smart-Refrigerator-with-Wi-Fi-Enabled-in-Stainless-Steel-Counter-Depth-LFXC22526S/306750351',\n",
       " 'https://www.homedepot.com/p/LG-Electronics-22-cu-ft-French-Door-Smart-Refrigerator-with-Wi-Fi-Enabled-in-Stainless-Steel-Counter-Depth-LFXC22526S/306750351',\n",
       " None,\n",
       " 'https://www.homedepot.com/p/Samsung-28-cu-ft-4-Door-French-Door-Refrigerator-in-Fingerprint-Resistant-Stainless-Steel-RF28R7201SR/308743988',\n",
       " 'https://www.homedepot.com/p/Samsung-28-cu-ft-4-Door-French-Door-Refrigerator-in-Fingerprint-Resistant-Stainless-Steel-RF28R7201SR/308743988',\n",
       " None,\n",
       " 'https://www.homedepot.com/p/GE-27-0-cu-ft-French-Door-Refrigerator-in-Fingerprint-Resistant-Stainless-Steel-ENERGY-STAR-GNE27JYMFS/312980601',\n",
       " 'https://www.homedepot.com/p/GE-27-0-cu-ft-French-Door-Refrigerator-in-Fingerprint-Resistant-Stainless-Steel-ENERGY-STAR-GNE27JYMFS/312980601',\n",
       " None,\n",
       " 'https://www.homedepot.com/p/Samsung-28-2-cu-ft-French-Door-Refrigerator-in-Stainless-Steel-RF28T5001SR/314024432',\n",
       " 'https://www.homedepot.com/p/Samsung-28-2-cu-ft-French-Door-Refrigerator-in-Stainless-Steel-RF28T5001SR/314024432',\n",
       " None,\n",
       " 'https://www.homedepot.com/p/LG-Electronics-26-2-cu-ft-French-Door-Smart-Refrigerator-with-Wi-Fi-Enabled-in-Stainless-Steel-LFXS26973S/305573330',\n",
       " 'https://www.homedepot.com/p/LG-Electronics-26-2-cu-ft-French-Door-Smart-Refrigerator-with-Wi-Fi-Enabled-in-Stainless-Steel-LFXS26973S/305573330',\n",
       " None,\n",
       " 'https://www.homedepot.com/p/GE-18-6-cu-ft-French-Door-Refrigerator-in-Stainless-Steel-Counter-Depth-GWE19JSLSS/303345832',\n",
       " 'https://www.homedepot.com/p/GE-18-6-cu-ft-French-Door-Refrigerator-in-Stainless-Steel-Counter-Depth-GWE19JSLSS/303345832',\n",
       " None,\n",
       " 'https://www.homedepot.com/p/Samsung-23-cu-ft-3-Door-French-Door-Refrigerator-in-Stainless-Steel-with-CoolSelect-Pantry-Counter-Depth-RF23R6201SR/310428856',\n",
       " 'https://www.homedepot.com/p/Samsung-23-cu-ft-3-Door-French-Door-Refrigerator-in-Stainless-Steel-with-CoolSelect-Pantry-Counter-Depth-RF23R6201SR/310428856',\n",
       " None,\n",
       " 'https://www.homedepot.com/p/LG-Electronics-23-cu-ft-Counter-Depth-3-Door-French-Door-Refrigerator-in-PrintProof-Stainless-Steel-LFCC22426S/306803830',\n",
       " 'https://www.homedepot.com/p/LG-Electronics-23-cu-ft-Counter-Depth-3-Door-French-Door-Refrigerator-in-PrintProof-Stainless-Steel-LFCC22426S/306803830',\n",
       " None,\n",
       " 'https://www.homedepot.com/p/LG-Electronics-33-in-25-cu-ft-3-Door-French-Door-Refrigerator-in-PrintProof-Stainless-Steel-LRFCS25D3S/314145556',\n",
       " 'https://www.homedepot.com/p/LG-Electronics-33-in-25-cu-ft-3-Door-French-Door-Refrigerator-in-PrintProof-Stainless-Steel-LRFCS25D3S/314145556',\n",
       " None,\n",
       " 'https://www.homedepot.com/p/LG-Electronics-26-cu-ft-3-Door-French-Door-Smart-Refrigerator-with-InstaView-Door-in-Door-in-Stainless-Steel-LFXS26596S/305712398',\n",
       " 'https://www.homedepot.com/p/LG-Electronics-26-cu-ft-3-Door-French-Door-Smart-Refrigerator-with-InstaView-Door-in-Door-in-Stainless-Steel-LFXS26596S/305712398',\n",
       " None,\n",
       " 'https://www.homedepot.com/p/GE-27-7-cu-ft-French-Door-Refrigerator-in-Fingerprint-Resistant-Stainless-Steel-ENERGY-STAR-GFE28GYNFS/312648552',\n",
       " 'https://www.homedepot.com/p/GE-27-7-cu-ft-French-Door-Refrigerator-in-Fingerprint-Resistant-Stainless-Steel-ENERGY-STAR-GFE28GYNFS/312648552',\n",
       " None,\n",
       " 'https://www.homedepot.com/p/Samsung-30-in-W-21-8-cu-ft-French-Door-Refrigerator-in-Stainless-Steel-RF220NCTASR/203707196',\n",
       " 'https://www.homedepot.com/p/Samsung-30-in-W-21-8-cu-ft-French-Door-Refrigerator-in-Stainless-Steel-RF220NCTASR/203707196',\n",
       " None,\n",
       " 'https://www.homedepot.com/p/Samsung-26-5-cu-ft-Family-Hub-French-Door-Smart-Refrigerator-in-Fingerprint-Resistant-Stainless-Steel-RF27T5501SR/312904454',\n",
       " 'https://www.homedepot.com/p/Samsung-26-5-cu-ft-Family-Hub-French-Door-Smart-Refrigerator-in-Fingerprint-Resistant-Stainless-Steel-RF27T5501SR/312904454',\n",
       " None,\n",
       " 'https://www.homedepot.com/p/LG-Electronics-29-5-cu-ft-Smart-French-4-Door-Door-In-Door-Full-Convert-with-Craft-Ice-Refrigerator-in-PrintProof-Stainless-Steel-LRMDS3006S/312285857',\n",
       " 'https://www.homedepot.com/p/LG-Electronics-29-5-cu-ft-Smart-French-4-Door-Door-In-Door-Full-Convert-with-Craft-Ice-Refrigerator-in-PrintProof-Stainless-Steel-LRMDS3006S/312285857',\n",
       " None,\n",
       " 'https://www.homedepot.com/p/GE-24-7-cu-ft-French-Door-Refrigerator-in-Stainless-Steel-ENERGY-STAR-GNE25JSKSS/206875972',\n",
       " 'https://www.homedepot.com/p/GE-24-7-cu-ft-French-Door-Refrigerator-in-Stainless-Steel-ENERGY-STAR-GNE25JSKSS/206875972',\n",
       " None,\n",
       " 'https://www.homedepot.com/p/Whirlpool-25-cu-ft-French-Door-Refrigerator-in-Fingerprint-Resistant-Stainless-Steel-with-Internal-Water-Dispenser-WRF535SWHZ/301688547',\n",
       " 'https://www.homedepot.com/p/Whirlpool-25-cu-ft-French-Door-Refrigerator-in-Fingerprint-Resistant-Stainless-Steel-with-Internal-Water-Dispenser-WRF535SWHZ/301688547',\n",
       " None]"
      ]
     },
     "execution_count": 64,
     "metadata": {},
     "output_type": "execute_result"
    }
   ],
   "source": [
    "refrig_byclass_list"
   ]
  },
  {
   "cell_type": "code",
   "execution_count": null,
   "metadata": {},
   "outputs": [],
   "source": []
  },
  {
   "cell_type": "code",
   "execution_count": 106,
   "metadata": {},
   "outputs": [],
   "source": [
    "driver.find_element_by_xpath('//*[@id=\"root\"]/div/div[2]/div/div[6]/div[2]/div[1]/div/div[1]/div/div[3]/a').click()"
   ]
  },
  {
   "cell_type": "code",
   "execution_count": 107,
   "metadata": {},
   "outputs": [],
   "source": [
    "driver.back()"
   ]
  },
  {
   "cell_type": "code",
   "execution_count": 92,
   "metadata": {},
   "outputs": [
    {
     "ename": "AttributeError",
     "evalue": "'list' object has no attribute 'getAttribute'",
     "output_type": "error",
     "traceback": [
      "\u001b[1;31m---------------------------------------------------------------------------\u001b[0m",
      "\u001b[1;31mAttributeError\u001b[0m                            Traceback (most recent call last)",
      "\u001b[1;32m<ipython-input-92-1e3c149c538f>\u001b[0m in \u001b[0;36m<module>\u001b[1;34m\u001b[0m\n\u001b[1;32m----> 1\u001b[1;33m \u001b[0mdriver\u001b[0m\u001b[1;33m.\u001b[0m\u001b[0mfind_elements_by_class_name\u001b[0m\u001b[1;33m(\u001b[0m\u001b[1;34m'product-pod__title__product'\u001b[0m\u001b[1;33m)\u001b[0m\u001b[1;33m.\u001b[0m\u001b[0mgetAttribute\u001b[0m\u001b[1;33m(\u001b[0m\u001b[1;34m\"href\"\u001b[0m\u001b[1;33m)\u001b[0m\u001b[1;33m\u001b[0m\u001b[1;33m\u001b[0m\u001b[0m\n\u001b[0m",
      "\u001b[1;31mAttributeError\u001b[0m: 'list' object has no attribute 'getAttribute'"
     ]
    }
   ],
   "source": [
    "driver.find_elements_by_class_name('product-pod__title__product').getAttribute(\"href\")"
   ]
  },
  {
   "cell_type": "code",
   "execution_count": null,
   "metadata": {},
   "outputs": [],
   "source": []
  },
  {
   "cell_type": "code",
   "execution_count": 98,
   "metadata": {},
   "outputs": [
    {
     "ename": "NoSuchElementException",
     "evalue": "Message: no such element: Unable to locate element: {\"method\":\"partial link text\",\"selector\":\"LG Electronics27.8 cu. ft. 4-Door French Door Smart Refrigerator with 2 Freezer Drawers and Wi-Fi Enabled in Black Stainless Steel\"}\n  (Session info: chrome=86.0.4240.111)\n",
     "output_type": "error",
     "traceback": [
      "\u001b[1;31m---------------------------------------------------------------------------\u001b[0m",
      "\u001b[1;31mNoSuchElementException\u001b[0m                    Traceback (most recent call last)",
      "\u001b[1;32m<ipython-input-98-55bf23d4f03f>\u001b[0m in \u001b[0;36m<module>\u001b[1;34m\u001b[0m\n\u001b[1;32m----> 1\u001b[1;33m \u001b[0mdriver\u001b[0m\u001b[1;33m.\u001b[0m\u001b[0mfind_element_by_class_name\u001b[0m\u001b[1;33m(\u001b[0m\u001b[1;34m'product-pod__title__product'\u001b[0m\u001b[1;33m)\u001b[0m\u001b[1;33m.\u001b[0m\u001b[0mfind_element_by_partial_link_text\u001b[0m\u001b[1;33m(\u001b[0m\u001b[1;34m'LG Electronics27.8 cu. ft. 4-Door French Door Smart Refrigerator with 2 Freezer Drawers and Wi-Fi Enabled in Black Stainless Steel'\u001b[0m\u001b[1;33m)\u001b[0m\u001b[1;33m.\u001b[0m\u001b[0mclick\u001b[0m\u001b[1;33m(\u001b[0m\u001b[1;33m)\u001b[0m\u001b[1;33m\u001b[0m\u001b[1;33m\u001b[0m\u001b[0m\n\u001b[0m",
      "\u001b[1;32m~\\AppData\\Roaming\\Python\\Python38\\site-packages\\selenium\\webdriver\\remote\\webelement.py\u001b[0m in \u001b[0;36mfind_element_by_partial_link_text\u001b[1;34m(self, link_text)\u001b[0m\n\u001b[0;32m    271\u001b[0m             \u001b[0melement\u001b[0m \u001b[1;33m=\u001b[0m \u001b[0melement\u001b[0m\u001b[1;33m.\u001b[0m\u001b[0mfind_element_by_partial_link_text\u001b[0m\u001b[1;33m(\u001b[0m\u001b[1;34m'Sign'\u001b[0m\u001b[1;33m)\u001b[0m\u001b[1;33m\u001b[0m\u001b[1;33m\u001b[0m\u001b[0m\n\u001b[0;32m    272\u001b[0m         \"\"\"\n\u001b[1;32m--> 273\u001b[1;33m         \u001b[1;32mreturn\u001b[0m \u001b[0mself\u001b[0m\u001b[1;33m.\u001b[0m\u001b[0mfind_element\u001b[0m\u001b[1;33m(\u001b[0m\u001b[0mby\u001b[0m\u001b[1;33m=\u001b[0m\u001b[0mBy\u001b[0m\u001b[1;33m.\u001b[0m\u001b[0mPARTIAL_LINK_TEXT\u001b[0m\u001b[1;33m,\u001b[0m \u001b[0mvalue\u001b[0m\u001b[1;33m=\u001b[0m\u001b[0mlink_text\u001b[0m\u001b[1;33m)\u001b[0m\u001b[1;33m\u001b[0m\u001b[1;33m\u001b[0m\u001b[0m\n\u001b[0m\u001b[0;32m    274\u001b[0m \u001b[1;33m\u001b[0m\u001b[0m\n\u001b[0;32m    275\u001b[0m     \u001b[1;32mdef\u001b[0m \u001b[0mfind_elements_by_partial_link_text\u001b[0m\u001b[1;33m(\u001b[0m\u001b[0mself\u001b[0m\u001b[1;33m,\u001b[0m \u001b[0mlink_text\u001b[0m\u001b[1;33m)\u001b[0m\u001b[1;33m:\u001b[0m\u001b[1;33m\u001b[0m\u001b[1;33m\u001b[0m\u001b[0m\n",
      "\u001b[1;32m~\\AppData\\Roaming\\Python\\Python38\\site-packages\\selenium\\webdriver\\remote\\webelement.py\u001b[0m in \u001b[0;36mfind_element\u001b[1;34m(self, by, value)\u001b[0m\n\u001b[0;32m    656\u001b[0m                 \u001b[0mvalue\u001b[0m \u001b[1;33m=\u001b[0m \u001b[1;34m'[name=\"%s\"]'\u001b[0m \u001b[1;33m%\u001b[0m \u001b[0mvalue\u001b[0m\u001b[1;33m\u001b[0m\u001b[1;33m\u001b[0m\u001b[0m\n\u001b[0;32m    657\u001b[0m \u001b[1;33m\u001b[0m\u001b[0m\n\u001b[1;32m--> 658\u001b[1;33m         return self._execute(Command.FIND_CHILD_ELEMENT,\n\u001b[0m\u001b[0;32m    659\u001b[0m                              {\"using\": by, \"value\": value})['value']\n\u001b[0;32m    660\u001b[0m \u001b[1;33m\u001b[0m\u001b[0m\n",
      "\u001b[1;32m~\\AppData\\Roaming\\Python\\Python38\\site-packages\\selenium\\webdriver\\remote\\webelement.py\u001b[0m in \u001b[0;36m_execute\u001b[1;34m(self, command, params)\u001b[0m\n\u001b[0;32m    631\u001b[0m             \u001b[0mparams\u001b[0m \u001b[1;33m=\u001b[0m \u001b[1;33m{\u001b[0m\u001b[1;33m}\u001b[0m\u001b[1;33m\u001b[0m\u001b[1;33m\u001b[0m\u001b[0m\n\u001b[0;32m    632\u001b[0m         \u001b[0mparams\u001b[0m\u001b[1;33m[\u001b[0m\u001b[1;34m'id'\u001b[0m\u001b[1;33m]\u001b[0m \u001b[1;33m=\u001b[0m \u001b[0mself\u001b[0m\u001b[1;33m.\u001b[0m\u001b[0m_id\u001b[0m\u001b[1;33m\u001b[0m\u001b[1;33m\u001b[0m\u001b[0m\n\u001b[1;32m--> 633\u001b[1;33m         \u001b[1;32mreturn\u001b[0m \u001b[0mself\u001b[0m\u001b[1;33m.\u001b[0m\u001b[0m_parent\u001b[0m\u001b[1;33m.\u001b[0m\u001b[0mexecute\u001b[0m\u001b[1;33m(\u001b[0m\u001b[0mcommand\u001b[0m\u001b[1;33m,\u001b[0m \u001b[0mparams\u001b[0m\u001b[1;33m)\u001b[0m\u001b[1;33m\u001b[0m\u001b[1;33m\u001b[0m\u001b[0m\n\u001b[0m\u001b[0;32m    634\u001b[0m \u001b[1;33m\u001b[0m\u001b[0m\n\u001b[0;32m    635\u001b[0m     \u001b[1;32mdef\u001b[0m \u001b[0mfind_element\u001b[0m\u001b[1;33m(\u001b[0m\u001b[0mself\u001b[0m\u001b[1;33m,\u001b[0m \u001b[0mby\u001b[0m\u001b[1;33m=\u001b[0m\u001b[0mBy\u001b[0m\u001b[1;33m.\u001b[0m\u001b[0mID\u001b[0m\u001b[1;33m,\u001b[0m \u001b[0mvalue\u001b[0m\u001b[1;33m=\u001b[0m\u001b[1;32mNone\u001b[0m\u001b[1;33m)\u001b[0m\u001b[1;33m:\u001b[0m\u001b[1;33m\u001b[0m\u001b[1;33m\u001b[0m\u001b[0m\n",
      "\u001b[1;32m~\\AppData\\Roaming\\Python\\Python38\\site-packages\\selenium\\webdriver\\remote\\webdriver.py\u001b[0m in \u001b[0;36mexecute\u001b[1;34m(self, driver_command, params)\u001b[0m\n\u001b[0;32m    319\u001b[0m         \u001b[0mresponse\u001b[0m \u001b[1;33m=\u001b[0m \u001b[0mself\u001b[0m\u001b[1;33m.\u001b[0m\u001b[0mcommand_executor\u001b[0m\u001b[1;33m.\u001b[0m\u001b[0mexecute\u001b[0m\u001b[1;33m(\u001b[0m\u001b[0mdriver_command\u001b[0m\u001b[1;33m,\u001b[0m \u001b[0mparams\u001b[0m\u001b[1;33m)\u001b[0m\u001b[1;33m\u001b[0m\u001b[1;33m\u001b[0m\u001b[0m\n\u001b[0;32m    320\u001b[0m         \u001b[1;32mif\u001b[0m \u001b[0mresponse\u001b[0m\u001b[1;33m:\u001b[0m\u001b[1;33m\u001b[0m\u001b[1;33m\u001b[0m\u001b[0m\n\u001b[1;32m--> 321\u001b[1;33m             \u001b[0mself\u001b[0m\u001b[1;33m.\u001b[0m\u001b[0merror_handler\u001b[0m\u001b[1;33m.\u001b[0m\u001b[0mcheck_response\u001b[0m\u001b[1;33m(\u001b[0m\u001b[0mresponse\u001b[0m\u001b[1;33m)\u001b[0m\u001b[1;33m\u001b[0m\u001b[1;33m\u001b[0m\u001b[0m\n\u001b[0m\u001b[0;32m    322\u001b[0m             response['value'] = self._unwrap_value(\n\u001b[0;32m    323\u001b[0m                 response.get('value', None))\n",
      "\u001b[1;32m~\\AppData\\Roaming\\Python\\Python38\\site-packages\\selenium\\webdriver\\remote\\errorhandler.py\u001b[0m in \u001b[0;36mcheck_response\u001b[1;34m(self, response)\u001b[0m\n\u001b[0;32m    240\u001b[0m                 \u001b[0malert_text\u001b[0m \u001b[1;33m=\u001b[0m \u001b[0mvalue\u001b[0m\u001b[1;33m[\u001b[0m\u001b[1;34m'alert'\u001b[0m\u001b[1;33m]\u001b[0m\u001b[1;33m.\u001b[0m\u001b[0mget\u001b[0m\u001b[1;33m(\u001b[0m\u001b[1;34m'text'\u001b[0m\u001b[1;33m)\u001b[0m\u001b[1;33m\u001b[0m\u001b[1;33m\u001b[0m\u001b[0m\n\u001b[0;32m    241\u001b[0m             \u001b[1;32mraise\u001b[0m \u001b[0mexception_class\u001b[0m\u001b[1;33m(\u001b[0m\u001b[0mmessage\u001b[0m\u001b[1;33m,\u001b[0m \u001b[0mscreen\u001b[0m\u001b[1;33m,\u001b[0m \u001b[0mstacktrace\u001b[0m\u001b[1;33m,\u001b[0m \u001b[0malert_text\u001b[0m\u001b[1;33m)\u001b[0m\u001b[1;33m\u001b[0m\u001b[1;33m\u001b[0m\u001b[0m\n\u001b[1;32m--> 242\u001b[1;33m         \u001b[1;32mraise\u001b[0m \u001b[0mexception_class\u001b[0m\u001b[1;33m(\u001b[0m\u001b[0mmessage\u001b[0m\u001b[1;33m,\u001b[0m \u001b[0mscreen\u001b[0m\u001b[1;33m,\u001b[0m \u001b[0mstacktrace\u001b[0m\u001b[1;33m)\u001b[0m\u001b[1;33m\u001b[0m\u001b[1;33m\u001b[0m\u001b[0m\n\u001b[0m\u001b[0;32m    243\u001b[0m \u001b[1;33m\u001b[0m\u001b[0m\n\u001b[0;32m    244\u001b[0m     \u001b[1;32mdef\u001b[0m \u001b[0m_value_or_default\u001b[0m\u001b[1;33m(\u001b[0m\u001b[0mself\u001b[0m\u001b[1;33m,\u001b[0m \u001b[0mobj\u001b[0m\u001b[1;33m,\u001b[0m \u001b[0mkey\u001b[0m\u001b[1;33m,\u001b[0m \u001b[0mdefault\u001b[0m\u001b[1;33m)\u001b[0m\u001b[1;33m:\u001b[0m\u001b[1;33m\u001b[0m\u001b[1;33m\u001b[0m\u001b[0m\n",
      "\u001b[1;31mNoSuchElementException\u001b[0m: Message: no such element: Unable to locate element: {\"method\":\"partial link text\",\"selector\":\"LG Electronics27.8 cu. ft. 4-Door French Door Smart Refrigerator with 2 Freezer Drawers and Wi-Fi Enabled in Black Stainless Steel\"}\n  (Session info: chrome=86.0.4240.111)\n"
     ]
    }
   ],
   "source": [
    "driver.find_element_by_class_name('product-pod__title__product').find_element_by_partial_link_text('LG Electronics27.8 cu. ft. 4-Door French Door Smart Refrigerator with 2 Freezer Drawers and Wi-Fi Enabled in Black Stainless Steel').click()"
   ]
  },
  {
   "cell_type": "code",
   "execution_count": 46,
   "metadata": {},
   "outputs": [],
   "source": [
    "driver.back()"
   ]
  },
  {
   "cell_type": "code",
   "execution_count": 91,
   "metadata": {},
   "outputs": [
    {
     "ename": "NoSuchElementException",
     "evalue": "Message: no such element: Unable to locate element: {\"method\":\"partial link text\",\"selector\":\"25 cu. ft. French Door Refrigerator in Fingerprint Resistant Stainless Steel\"}\n  (Session info: chrome=86.0.4240.111)\n",
     "output_type": "error",
     "traceback": [
      "\u001b[1;31m---------------------------------------------------------------------------\u001b[0m",
      "\u001b[1;31mNoSuchElementException\u001b[0m                    Traceback (most recent call last)",
      "\u001b[1;32m<ipython-input-91-1a1a1c79fa07>\u001b[0m in \u001b[0;36m<module>\u001b[1;34m\u001b[0m\n\u001b[1;32m----> 1\u001b[1;33m \u001b[0mdriver\u001b[0m\u001b[1;33m.\u001b[0m\u001b[0mfind_element_by_class_name\u001b[0m\u001b[1;33m(\u001b[0m\u001b[1;34m'product-pod__title__product'\u001b[0m\u001b[1;33m)\u001b[0m\u001b[1;33m.\u001b[0m\u001b[0mfind_element_by_partial_link_text\u001b[0m\u001b[1;33m(\u001b[0m\u001b[1;34m'25 cu. ft. French Door Refrigerator in Fingerprint Resistant Stainless Steel'\u001b[0m\u001b[1;33m)\u001b[0m\u001b[1;33m.\u001b[0m\u001b[0mclick\u001b[0m\u001b[1;33m(\u001b[0m\u001b[1;33m)\u001b[0m\u001b[1;33m\u001b[0m\u001b[1;33m\u001b[0m\u001b[0m\n\u001b[0m",
      "\u001b[1;32m~\\AppData\\Roaming\\Python\\Python38\\site-packages\\selenium\\webdriver\\remote\\webelement.py\u001b[0m in \u001b[0;36mfind_element_by_partial_link_text\u001b[1;34m(self, link_text)\u001b[0m\n\u001b[0;32m    271\u001b[0m             \u001b[0melement\u001b[0m \u001b[1;33m=\u001b[0m \u001b[0melement\u001b[0m\u001b[1;33m.\u001b[0m\u001b[0mfind_element_by_partial_link_text\u001b[0m\u001b[1;33m(\u001b[0m\u001b[1;34m'Sign'\u001b[0m\u001b[1;33m)\u001b[0m\u001b[1;33m\u001b[0m\u001b[1;33m\u001b[0m\u001b[0m\n\u001b[0;32m    272\u001b[0m         \"\"\"\n\u001b[1;32m--> 273\u001b[1;33m         \u001b[1;32mreturn\u001b[0m \u001b[0mself\u001b[0m\u001b[1;33m.\u001b[0m\u001b[0mfind_element\u001b[0m\u001b[1;33m(\u001b[0m\u001b[0mby\u001b[0m\u001b[1;33m=\u001b[0m\u001b[0mBy\u001b[0m\u001b[1;33m.\u001b[0m\u001b[0mPARTIAL_LINK_TEXT\u001b[0m\u001b[1;33m,\u001b[0m \u001b[0mvalue\u001b[0m\u001b[1;33m=\u001b[0m\u001b[0mlink_text\u001b[0m\u001b[1;33m)\u001b[0m\u001b[1;33m\u001b[0m\u001b[1;33m\u001b[0m\u001b[0m\n\u001b[0m\u001b[0;32m    274\u001b[0m \u001b[1;33m\u001b[0m\u001b[0m\n\u001b[0;32m    275\u001b[0m     \u001b[1;32mdef\u001b[0m \u001b[0mfind_elements_by_partial_link_text\u001b[0m\u001b[1;33m(\u001b[0m\u001b[0mself\u001b[0m\u001b[1;33m,\u001b[0m \u001b[0mlink_text\u001b[0m\u001b[1;33m)\u001b[0m\u001b[1;33m:\u001b[0m\u001b[1;33m\u001b[0m\u001b[1;33m\u001b[0m\u001b[0m\n",
      "\u001b[1;32m~\\AppData\\Roaming\\Python\\Python38\\site-packages\\selenium\\webdriver\\remote\\webelement.py\u001b[0m in \u001b[0;36mfind_element\u001b[1;34m(self, by, value)\u001b[0m\n\u001b[0;32m    656\u001b[0m                 \u001b[0mvalue\u001b[0m \u001b[1;33m=\u001b[0m \u001b[1;34m'[name=\"%s\"]'\u001b[0m \u001b[1;33m%\u001b[0m \u001b[0mvalue\u001b[0m\u001b[1;33m\u001b[0m\u001b[1;33m\u001b[0m\u001b[0m\n\u001b[0;32m    657\u001b[0m \u001b[1;33m\u001b[0m\u001b[0m\n\u001b[1;32m--> 658\u001b[1;33m         return self._execute(Command.FIND_CHILD_ELEMENT,\n\u001b[0m\u001b[0;32m    659\u001b[0m                              {\"using\": by, \"value\": value})['value']\n\u001b[0;32m    660\u001b[0m \u001b[1;33m\u001b[0m\u001b[0m\n",
      "\u001b[1;32m~\\AppData\\Roaming\\Python\\Python38\\site-packages\\selenium\\webdriver\\remote\\webelement.py\u001b[0m in \u001b[0;36m_execute\u001b[1;34m(self, command, params)\u001b[0m\n\u001b[0;32m    631\u001b[0m             \u001b[0mparams\u001b[0m \u001b[1;33m=\u001b[0m \u001b[1;33m{\u001b[0m\u001b[1;33m}\u001b[0m\u001b[1;33m\u001b[0m\u001b[1;33m\u001b[0m\u001b[0m\n\u001b[0;32m    632\u001b[0m         \u001b[0mparams\u001b[0m\u001b[1;33m[\u001b[0m\u001b[1;34m'id'\u001b[0m\u001b[1;33m]\u001b[0m \u001b[1;33m=\u001b[0m \u001b[0mself\u001b[0m\u001b[1;33m.\u001b[0m\u001b[0m_id\u001b[0m\u001b[1;33m\u001b[0m\u001b[1;33m\u001b[0m\u001b[0m\n\u001b[1;32m--> 633\u001b[1;33m         \u001b[1;32mreturn\u001b[0m \u001b[0mself\u001b[0m\u001b[1;33m.\u001b[0m\u001b[0m_parent\u001b[0m\u001b[1;33m.\u001b[0m\u001b[0mexecute\u001b[0m\u001b[1;33m(\u001b[0m\u001b[0mcommand\u001b[0m\u001b[1;33m,\u001b[0m \u001b[0mparams\u001b[0m\u001b[1;33m)\u001b[0m\u001b[1;33m\u001b[0m\u001b[1;33m\u001b[0m\u001b[0m\n\u001b[0m\u001b[0;32m    634\u001b[0m \u001b[1;33m\u001b[0m\u001b[0m\n\u001b[0;32m    635\u001b[0m     \u001b[1;32mdef\u001b[0m \u001b[0mfind_element\u001b[0m\u001b[1;33m(\u001b[0m\u001b[0mself\u001b[0m\u001b[1;33m,\u001b[0m \u001b[0mby\u001b[0m\u001b[1;33m=\u001b[0m\u001b[0mBy\u001b[0m\u001b[1;33m.\u001b[0m\u001b[0mID\u001b[0m\u001b[1;33m,\u001b[0m \u001b[0mvalue\u001b[0m\u001b[1;33m=\u001b[0m\u001b[1;32mNone\u001b[0m\u001b[1;33m)\u001b[0m\u001b[1;33m:\u001b[0m\u001b[1;33m\u001b[0m\u001b[1;33m\u001b[0m\u001b[0m\n",
      "\u001b[1;32m~\\AppData\\Roaming\\Python\\Python38\\site-packages\\selenium\\webdriver\\remote\\webdriver.py\u001b[0m in \u001b[0;36mexecute\u001b[1;34m(self, driver_command, params)\u001b[0m\n\u001b[0;32m    319\u001b[0m         \u001b[0mresponse\u001b[0m \u001b[1;33m=\u001b[0m \u001b[0mself\u001b[0m\u001b[1;33m.\u001b[0m\u001b[0mcommand_executor\u001b[0m\u001b[1;33m.\u001b[0m\u001b[0mexecute\u001b[0m\u001b[1;33m(\u001b[0m\u001b[0mdriver_command\u001b[0m\u001b[1;33m,\u001b[0m \u001b[0mparams\u001b[0m\u001b[1;33m)\u001b[0m\u001b[1;33m\u001b[0m\u001b[1;33m\u001b[0m\u001b[0m\n\u001b[0;32m    320\u001b[0m         \u001b[1;32mif\u001b[0m \u001b[0mresponse\u001b[0m\u001b[1;33m:\u001b[0m\u001b[1;33m\u001b[0m\u001b[1;33m\u001b[0m\u001b[0m\n\u001b[1;32m--> 321\u001b[1;33m             \u001b[0mself\u001b[0m\u001b[1;33m.\u001b[0m\u001b[0merror_handler\u001b[0m\u001b[1;33m.\u001b[0m\u001b[0mcheck_response\u001b[0m\u001b[1;33m(\u001b[0m\u001b[0mresponse\u001b[0m\u001b[1;33m)\u001b[0m\u001b[1;33m\u001b[0m\u001b[1;33m\u001b[0m\u001b[0m\n\u001b[0m\u001b[0;32m    322\u001b[0m             response['value'] = self._unwrap_value(\n\u001b[0;32m    323\u001b[0m                 response.get('value', None))\n",
      "\u001b[1;32m~\\AppData\\Roaming\\Python\\Python38\\site-packages\\selenium\\webdriver\\remote\\errorhandler.py\u001b[0m in \u001b[0;36mcheck_response\u001b[1;34m(self, response)\u001b[0m\n\u001b[0;32m    240\u001b[0m                 \u001b[0malert_text\u001b[0m \u001b[1;33m=\u001b[0m \u001b[0mvalue\u001b[0m\u001b[1;33m[\u001b[0m\u001b[1;34m'alert'\u001b[0m\u001b[1;33m]\u001b[0m\u001b[1;33m.\u001b[0m\u001b[0mget\u001b[0m\u001b[1;33m(\u001b[0m\u001b[1;34m'text'\u001b[0m\u001b[1;33m)\u001b[0m\u001b[1;33m\u001b[0m\u001b[1;33m\u001b[0m\u001b[0m\n\u001b[0;32m    241\u001b[0m             \u001b[1;32mraise\u001b[0m \u001b[0mexception_class\u001b[0m\u001b[1;33m(\u001b[0m\u001b[0mmessage\u001b[0m\u001b[1;33m,\u001b[0m \u001b[0mscreen\u001b[0m\u001b[1;33m,\u001b[0m \u001b[0mstacktrace\u001b[0m\u001b[1;33m,\u001b[0m \u001b[0malert_text\u001b[0m\u001b[1;33m)\u001b[0m\u001b[1;33m\u001b[0m\u001b[1;33m\u001b[0m\u001b[0m\n\u001b[1;32m--> 242\u001b[1;33m         \u001b[1;32mraise\u001b[0m \u001b[0mexception_class\u001b[0m\u001b[1;33m(\u001b[0m\u001b[0mmessage\u001b[0m\u001b[1;33m,\u001b[0m \u001b[0mscreen\u001b[0m\u001b[1;33m,\u001b[0m \u001b[0mstacktrace\u001b[0m\u001b[1;33m)\u001b[0m\u001b[1;33m\u001b[0m\u001b[1;33m\u001b[0m\u001b[0m\n\u001b[0m\u001b[0;32m    243\u001b[0m \u001b[1;33m\u001b[0m\u001b[0m\n\u001b[0;32m    244\u001b[0m     \u001b[1;32mdef\u001b[0m \u001b[0m_value_or_default\u001b[0m\u001b[1;33m(\u001b[0m\u001b[0mself\u001b[0m\u001b[1;33m,\u001b[0m \u001b[0mobj\u001b[0m\u001b[1;33m,\u001b[0m \u001b[0mkey\u001b[0m\u001b[1;33m,\u001b[0m \u001b[0mdefault\u001b[0m\u001b[1;33m)\u001b[0m\u001b[1;33m:\u001b[0m\u001b[1;33m\u001b[0m\u001b[1;33m\u001b[0m\u001b[0m\n",
      "\u001b[1;31mNoSuchElementException\u001b[0m: Message: no such element: Unable to locate element: {\"method\":\"partial link text\",\"selector\":\"25 cu. ft. French Door Refrigerator in Fingerprint Resistant Stainless Steel\"}\n  (Session info: chrome=86.0.4240.111)\n"
     ]
    }
   ],
   "source": [
    "driver.find_element_by_class_name('product-pod__title__product').find_element_by_partial_link_text('25 cu. ft. French Door Refrigerator in Fingerprint Resistant Stainless Steel').click()"
   ]
  },
  {
   "cell_type": "code",
   "execution_count": 269,
   "metadata": {},
   "outputs": [],
   "source": [
    "shop_by_catogory = driver.find_elements_by_xpath('//*[@id=\"shop_by_category\"]/div[2]')"
   ]
  },
  {
   "cell_type": "code",
   "execution_count": 270,
   "metadata": {},
   "outputs": [
    {
     "data": {
      "text/plain": [
       "[<selenium.webdriver.remote.webelement.WebElement (session=\"791b102d4d466cad27c9408a6ddb73e1\", element=\"50ebff6d-3604-4c40-ab17-f262bc187c0d\")>]"
      ]
     },
     "execution_count": 270,
     "metadata": {},
     "output_type": "execute_result"
    }
   ],
   "source": [
    "shop_by_catogory\n"
   ]
  },
  {
   "cell_type": "code",
   "execution_count": 271,
   "metadata": {},
   "outputs": [],
   "source": [
    "shop_by_catogory_list = [x.text for x in shop_by_catogory]"
   ]
  },
  {
   "cell_type": "code",
   "execution_count": 272,
   "metadata": {},
   "outputs": [
    {
     "data": {
      "text/plain": [
       "['Appliances\\nBath & Faucets\\nBlinds & Window Treatments\\nBuilding Materials\\nDecor & Furniture\\nDoors & Windows']"
      ]
     },
     "execution_count": 272,
     "metadata": {},
     "output_type": "execute_result"
    }
   ],
   "source": [
    "shop_by_catogory_list"
   ]
  },
  {
   "cell_type": "code",
   "execution_count": 273,
   "metadata": {},
   "outputs": [],
   "source": [
    "catogory_list = shop_by_catogory_list[0].split('\\n')"
   ]
  },
  {
   "cell_type": "code",
   "execution_count": 274,
   "metadata": {},
   "outputs": [
    {
     "data": {
      "text/plain": [
       "['Appliances',\n",
       " 'Bath & Faucets',\n",
       " 'Blinds & Window Treatments',\n",
       " 'Building Materials',\n",
       " 'Decor & Furniture',\n",
       " 'Doors & Windows']"
      ]
     },
     "execution_count": 274,
     "metadata": {},
     "output_type": "execute_result"
    }
   ],
   "source": [
    "catogory_list"
   ]
  },
  {
   "cell_type": "code",
   "execution_count": 275,
   "metadata": {},
   "outputs": [],
   "source": [
    "for lis in shop_by_catogory:\n",
    "    list_of_links = lis.get_attribute('href')"
   ]
  },
  {
   "cell_type": "code",
   "execution_count": 276,
   "metadata": {},
   "outputs": [],
   "source": [
    "shop_byclass = driver.find_elements_by_class_name('visualNav__title-center')"
   ]
  },
  {
   "cell_type": "code",
   "execution_count": 277,
   "metadata": {},
   "outputs": [],
   "source": [
    "shop_byclass_list = [x.get_attribute('href') for x in shop_byclass]"
   ]
  },
  {
   "cell_type": "code",
   "execution_count": 278,
   "metadata": {},
   "outputs": [
    {
     "data": {
      "text/plain": [
       "['https://www.homedepot.com/c/About_Your_Online_Order',\n",
       " 'https://www.homedepot.com/c/curbside_pickup',\n",
       " 'https://www.homedepot.com/c/SF_Mobile_Shopping',\n",
       " 'https://www.homedepot.com/c/SF_Mobile_Shopping',\n",
       " 'https://www.homedepot.com/c/pick_up_in_store',\n",
       " 'https://www.homedepot.com/b/Appliances/N-5yc1vZbv1w',\n",
       " 'https://www.homedepot.com/b/Bath/N-5yc1vZbzb3',\n",
       " 'https://www.homedepot.com/b/Window-Treatments/N-5yc1vZar4w',\n",
       " 'https://www.homedepot.com/b/Building-Materials/N-5yc1vZaqns',\n",
       " 'https://www.homedepot.com/b/Home-Decor/N-5yc1vZas6p',\n",
       " 'https://www.homedepot.com/b/Doors-Windows/N-5yc1vZaqih',\n",
       " 'https://www.homedepot.com/b/Electrical/N-5yc1vZarcd',\n",
       " 'https://www.homedepot.com/b/Flooring/N-5yc1vZaq7r',\n",
       " 'https://www.homedepot.com/b/Hardware/N-5yc1vZc21m',\n",
       " 'https://www.homedepot.com/b/Heating-Venting-Cooling/N-5yc1vZc4k8',\n",
       " 'https://www.homedepot.com/b/Kitchen/N-5yc1vZar4i',\n",
       " 'https://www.homedepot.com/b/Outdoors-Garden-Center/N-5yc1vZbx6k',\n",
       " 'https://www.homedepot.com/b/Lighting/N-5yc1vZbvn5',\n",
       " 'https://www.homedepot.com/b/Outdoors/N-5yc1vZbx82',\n",
       " 'https://www.homedepot.com/b/Paint/N-5yc1vZar2d',\n",
       " 'https://www.homedepot.com/b/Plumbing/N-5yc1vZbqew',\n",
       " 'https://www.homedepot.com/b/Storage-Organization/N-5yc1vZas7e',\n",
       " 'https://www.homedepot.com/b/Tools/N-5yc1vZc1xy']"
      ]
     },
     "execution_count": 278,
     "metadata": {},
     "output_type": "execute_result"
    }
   ],
   "source": [
    "shop_byclass_list"
   ]
  },
  {
   "cell_type": "code",
   "execution_count": 297,
   "metadata": {},
   "outputs": [
    {
     "name": "stdout",
     "output_type": "stream",
     "text": [
      "['https://www.homedepot.com/b/Appliances/N-5yc1vZbv1w', 'https://www.homedepot.com/b/Bath/N-5yc1vZbzb3', 'https://www.homedepot.com/b/Window-Treatments/N-5yc1vZar4w', 'https://www.homedepot.com/b/Building-Materials/N-5yc1vZaqns', 'https://www.homedepot.com/b/Home-Decor/N-5yc1vZas6p']\n"
     ]
    }
   ],
   "source": [
    "a=list()\n",
    "for catogory in shop_byclass_list[5:10]:\n",
    "    a.append(catogory)\n",
    "print(a)"
   ]
  },
  {
   "cell_type": "code",
   "execution_count": 299,
   "metadata": {},
   "outputs": [],
   "source": [
    "b=shop_byclass_list[5:10]"
   ]
  },
  {
   "cell_type": "code",
   "execution_count": 300,
   "metadata": {},
   "outputs": [
    {
     "data": {
      "text/plain": [
       "['https://www.homedepot.com/b/Appliances/N-5yc1vZbv1w',\n",
       " 'https://www.homedepot.com/b/Bath/N-5yc1vZbzb3',\n",
       " 'https://www.homedepot.com/b/Window-Treatments/N-5yc1vZar4w',\n",
       " 'https://www.homedepot.com/b/Building-Materials/N-5yc1vZaqns',\n",
       " 'https://www.homedepot.com/b/Home-Decor/N-5yc1vZas6p']"
      ]
     },
     "execution_count": 300,
     "metadata": {},
     "output_type": "execute_result"
    }
   ],
   "source": [
    "b"
   ]
  },
  {
   "cell_type": "code",
   "execution_count": 289,
   "metadata": {},
   "outputs": [
    {
     "data": {
      "text/plain": [
       "(23, 1)"
      ]
     },
     "execution_count": 289,
     "metadata": {},
     "output_type": "execute_result"
    }
   ],
   "source": [
    "data_frame.shape"
   ]
  },
  {
   "cell_type": "code",
   "execution_count": 305,
   "metadata": {},
   "outputs": [
    {
     "data": {
      "text/html": [
       "<div>\n",
       "<style scoped>\n",
       "    .dataframe tbody tr th:only-of-type {\n",
       "        vertical-align: middle;\n",
       "    }\n",
       "\n",
       "    .dataframe tbody tr th {\n",
       "        vertical-align: top;\n",
       "    }\n",
       "\n",
       "    .dataframe thead th {\n",
       "        text-align: right;\n",
       "    }\n",
       "</style>\n",
       "<table border=\"1\" class=\"dataframe\">\n",
       "  <thead>\n",
       "    <tr style=\"text-align: right;\">\n",
       "      <th></th>\n",
       "      <th>0</th>\n",
       "    </tr>\n",
       "  </thead>\n",
       "  <tbody>\n",
       "    <tr>\n",
       "      <th>Appliances</th>\n",
       "      <td>https://www.homedepot.com/b/Appliances/N-5yc1v...</td>\n",
       "    </tr>\n",
       "    <tr>\n",
       "      <th>Bath &amp; Faucets</th>\n",
       "      <td>https://www.homedepot.com/b/Bath/N-5yc1vZbzb3</td>\n",
       "    </tr>\n",
       "    <tr>\n",
       "      <th>Blinds &amp; Window Treatments</th>\n",
       "      <td>https://www.homedepot.com/b/Window-Treatments/...</td>\n",
       "    </tr>\n",
       "    <tr>\n",
       "      <th>Building Materials</th>\n",
       "      <td>https://www.homedepot.com/b/Building-Materials...</td>\n",
       "    </tr>\n",
       "    <tr>\n",
       "      <th>Decor &amp; Furniture</th>\n",
       "      <td>https://www.homedepot.com/b/Home-Decor/N-5yc1v...</td>\n",
       "    </tr>\n",
       "    <tr>\n",
       "      <th>Doors &amp; Windows</th>\n",
       "      <td>https://www.homedepot.com/b/Doors-Windows/N-5y...</td>\n",
       "    </tr>\n",
       "  </tbody>\n",
       "</table>\n",
       "</div>"
      ],
      "text/plain": [
       "                                                                            0\n",
       "Appliances                  https://www.homedepot.com/b/Appliances/N-5yc1v...\n",
       "Bath & Faucets                  https://www.homedepot.com/b/Bath/N-5yc1vZbzb3\n",
       "Blinds & Window Treatments  https://www.homedepot.com/b/Window-Treatments/...\n",
       "Building Materials          https://www.homedepot.com/b/Building-Materials...\n",
       "Decor & Furniture           https://www.homedepot.com/b/Home-Decor/N-5yc1v...\n",
       "Doors & Windows             https://www.homedepot.com/b/Doors-Windows/N-5y..."
      ]
     },
     "execution_count": 305,
     "metadata": {},
     "output_type": "execute_result"
    }
   ],
   "source": [
    "pd.DataFrame(shop_byclass_list[5:11],catogory_list)"
   ]
  },
  {
   "cell_type": "code",
   "execution_count": 388,
   "metadata": {},
   "outputs": [],
   "source": [
    "french_fridge = driver.find_element_by_class_name('etchVisualNavigationStory__card__title').click()"
   ]
  },
  {
   "cell_type": "code",
   "execution_count": 393,
   "metadata": {},
   "outputs": [],
   "source": [
    "french_fridge_list = driver.find_elements_by_class_name('pod-plp__description js-podclick-analytics')"
   ]
  },
  {
   "cell_type": "code",
   "execution_count": 394,
   "metadata": {},
   "outputs": [],
   "source": [
    "for link in french_fridge_list:\n",
    "    f = french_fridge_list.find_elements_by_css_selecto('a').get_attribute('href')"
   ]
  },
  {
   "cell_type": "code",
   "execution_count": 391,
   "metadata": {},
   "outputs": [
    {
     "data": {
      "text/plain": [
       "[]"
      ]
     },
     "execution_count": 391,
     "metadata": {},
     "output_type": "execute_result"
    }
   ],
   "source": [
    "f"
   ]
  },
  {
   "cell_type": "code",
   "execution_count": null,
   "metadata": {},
   "outputs": [],
   "source": []
  },
  {
   "cell_type": "code",
   "execution_count": 333,
   "metadata": {},
   "outputs": [],
   "source": [
    "refrig_list = [x.get_attribute('href') for x in ]"
   ]
  },
  {
   "cell_type": "code",
   "execution_count": 334,
   "metadata": {},
   "outputs": [
    {
     "data": {
      "text/plain": [
       "[]"
      ]
     },
     "execution_count": 334,
     "metadata": {},
     "output_type": "execute_result"
    }
   ],
   "source": [
    "refrig_list"
   ]
  },
  {
   "cell_type": "code",
   "execution_count": 335,
   "metadata": {},
   "outputs": [
    {
     "ename": "NoSuchWindowException",
     "evalue": "Message: no such window: window was already closed\n  (Session info: chrome=86.0.4240.111)\n",
     "output_type": "error",
     "traceback": [
      "\u001b[1;31m---------------------------------------------------------------------------\u001b[0m",
      "\u001b[1;31mNoSuchWindowException\u001b[0m                     Traceback (most recent call last)",
      "\u001b[1;32m<ipython-input-335-d04db795353f>\u001b[0m in \u001b[0;36m<module>\u001b[1;34m\u001b[0m\n\u001b[1;32m----> 1\u001b[1;33m \u001b[0mrefrig_list\u001b[0m \u001b[1;33m=\u001b[0m \u001b[1;33m[\u001b[0m\u001b[0mx\u001b[0m\u001b[1;33m.\u001b[0m\u001b[0mtext\u001b[0m \u001b[1;32mfor\u001b[0m \u001b[0mx\u001b[0m \u001b[1;32min\u001b[0m \u001b[0mrefrig_data\u001b[0m\u001b[1;33m]\u001b[0m\u001b[1;33m[\u001b[0m\u001b[1;36m0\u001b[0m\u001b[1;33m]\u001b[0m\u001b[1;33m.\u001b[0m\u001b[0msplit\u001b[0m\u001b[1;33m(\u001b[0m\u001b[1;34m'\\nCompare\\n'\u001b[0m\u001b[1;33m)\u001b[0m\u001b[1;33m\u001b[0m\u001b[1;33m\u001b[0m\u001b[0m\n\u001b[0m",
      "\u001b[1;32m<ipython-input-335-d04db795353f>\u001b[0m in \u001b[0;36m<listcomp>\u001b[1;34m(.0)\u001b[0m\n\u001b[1;32m----> 1\u001b[1;33m \u001b[0mrefrig_list\u001b[0m \u001b[1;33m=\u001b[0m \u001b[1;33m[\u001b[0m\u001b[0mx\u001b[0m\u001b[1;33m.\u001b[0m\u001b[0mtext\u001b[0m \u001b[1;32mfor\u001b[0m \u001b[0mx\u001b[0m \u001b[1;32min\u001b[0m \u001b[0mrefrig_data\u001b[0m\u001b[1;33m]\u001b[0m\u001b[1;33m[\u001b[0m\u001b[1;36m0\u001b[0m\u001b[1;33m]\u001b[0m\u001b[1;33m.\u001b[0m\u001b[0msplit\u001b[0m\u001b[1;33m(\u001b[0m\u001b[1;34m'\\nCompare\\n'\u001b[0m\u001b[1;33m)\u001b[0m\u001b[1;33m\u001b[0m\u001b[1;33m\u001b[0m\u001b[0m\n\u001b[0m",
      "\u001b[1;32m~\\AppData\\Roaming\\Python\\Python38\\site-packages\\selenium\\webdriver\\remote\\webelement.py\u001b[0m in \u001b[0;36mtext\u001b[1;34m(self)\u001b[0m\n\u001b[0;32m     74\u001b[0m     \u001b[1;32mdef\u001b[0m \u001b[0mtext\u001b[0m\u001b[1;33m(\u001b[0m\u001b[0mself\u001b[0m\u001b[1;33m)\u001b[0m\u001b[1;33m:\u001b[0m\u001b[1;33m\u001b[0m\u001b[1;33m\u001b[0m\u001b[0m\n\u001b[0;32m     75\u001b[0m         \u001b[1;34m\"\"\"The text of the element.\"\"\"\u001b[0m\u001b[1;33m\u001b[0m\u001b[1;33m\u001b[0m\u001b[0m\n\u001b[1;32m---> 76\u001b[1;33m         \u001b[1;32mreturn\u001b[0m \u001b[0mself\u001b[0m\u001b[1;33m.\u001b[0m\u001b[0m_execute\u001b[0m\u001b[1;33m(\u001b[0m\u001b[0mCommand\u001b[0m\u001b[1;33m.\u001b[0m\u001b[0mGET_ELEMENT_TEXT\u001b[0m\u001b[1;33m)\u001b[0m\u001b[1;33m[\u001b[0m\u001b[1;34m'value'\u001b[0m\u001b[1;33m]\u001b[0m\u001b[1;33m\u001b[0m\u001b[1;33m\u001b[0m\u001b[0m\n\u001b[0m\u001b[0;32m     77\u001b[0m \u001b[1;33m\u001b[0m\u001b[0m\n\u001b[0;32m     78\u001b[0m     \u001b[1;32mdef\u001b[0m \u001b[0mclick\u001b[0m\u001b[1;33m(\u001b[0m\u001b[0mself\u001b[0m\u001b[1;33m)\u001b[0m\u001b[1;33m:\u001b[0m\u001b[1;33m\u001b[0m\u001b[1;33m\u001b[0m\u001b[0m\n",
      "\u001b[1;32m~\\AppData\\Roaming\\Python\\Python38\\site-packages\\selenium\\webdriver\\remote\\webelement.py\u001b[0m in \u001b[0;36m_execute\u001b[1;34m(self, command, params)\u001b[0m\n\u001b[0;32m    631\u001b[0m             \u001b[0mparams\u001b[0m \u001b[1;33m=\u001b[0m \u001b[1;33m{\u001b[0m\u001b[1;33m}\u001b[0m\u001b[1;33m\u001b[0m\u001b[1;33m\u001b[0m\u001b[0m\n\u001b[0;32m    632\u001b[0m         \u001b[0mparams\u001b[0m\u001b[1;33m[\u001b[0m\u001b[1;34m'id'\u001b[0m\u001b[1;33m]\u001b[0m \u001b[1;33m=\u001b[0m \u001b[0mself\u001b[0m\u001b[1;33m.\u001b[0m\u001b[0m_id\u001b[0m\u001b[1;33m\u001b[0m\u001b[1;33m\u001b[0m\u001b[0m\n\u001b[1;32m--> 633\u001b[1;33m         \u001b[1;32mreturn\u001b[0m \u001b[0mself\u001b[0m\u001b[1;33m.\u001b[0m\u001b[0m_parent\u001b[0m\u001b[1;33m.\u001b[0m\u001b[0mexecute\u001b[0m\u001b[1;33m(\u001b[0m\u001b[0mcommand\u001b[0m\u001b[1;33m,\u001b[0m \u001b[0mparams\u001b[0m\u001b[1;33m)\u001b[0m\u001b[1;33m\u001b[0m\u001b[1;33m\u001b[0m\u001b[0m\n\u001b[0m\u001b[0;32m    634\u001b[0m \u001b[1;33m\u001b[0m\u001b[0m\n\u001b[0;32m    635\u001b[0m     \u001b[1;32mdef\u001b[0m \u001b[0mfind_element\u001b[0m\u001b[1;33m(\u001b[0m\u001b[0mself\u001b[0m\u001b[1;33m,\u001b[0m \u001b[0mby\u001b[0m\u001b[1;33m=\u001b[0m\u001b[0mBy\u001b[0m\u001b[1;33m.\u001b[0m\u001b[0mID\u001b[0m\u001b[1;33m,\u001b[0m \u001b[0mvalue\u001b[0m\u001b[1;33m=\u001b[0m\u001b[1;32mNone\u001b[0m\u001b[1;33m)\u001b[0m\u001b[1;33m:\u001b[0m\u001b[1;33m\u001b[0m\u001b[1;33m\u001b[0m\u001b[0m\n",
      "\u001b[1;32m~\\AppData\\Roaming\\Python\\Python38\\site-packages\\selenium\\webdriver\\remote\\webdriver.py\u001b[0m in \u001b[0;36mexecute\u001b[1;34m(self, driver_command, params)\u001b[0m\n\u001b[0;32m    319\u001b[0m         \u001b[0mresponse\u001b[0m \u001b[1;33m=\u001b[0m \u001b[0mself\u001b[0m\u001b[1;33m.\u001b[0m\u001b[0mcommand_executor\u001b[0m\u001b[1;33m.\u001b[0m\u001b[0mexecute\u001b[0m\u001b[1;33m(\u001b[0m\u001b[0mdriver_command\u001b[0m\u001b[1;33m,\u001b[0m \u001b[0mparams\u001b[0m\u001b[1;33m)\u001b[0m\u001b[1;33m\u001b[0m\u001b[1;33m\u001b[0m\u001b[0m\n\u001b[0;32m    320\u001b[0m         \u001b[1;32mif\u001b[0m \u001b[0mresponse\u001b[0m\u001b[1;33m:\u001b[0m\u001b[1;33m\u001b[0m\u001b[1;33m\u001b[0m\u001b[0m\n\u001b[1;32m--> 321\u001b[1;33m             \u001b[0mself\u001b[0m\u001b[1;33m.\u001b[0m\u001b[0merror_handler\u001b[0m\u001b[1;33m.\u001b[0m\u001b[0mcheck_response\u001b[0m\u001b[1;33m(\u001b[0m\u001b[0mresponse\u001b[0m\u001b[1;33m)\u001b[0m\u001b[1;33m\u001b[0m\u001b[1;33m\u001b[0m\u001b[0m\n\u001b[0m\u001b[0;32m    322\u001b[0m             response['value'] = self._unwrap_value(\n\u001b[0;32m    323\u001b[0m                 response.get('value', None))\n",
      "\u001b[1;32m~\\AppData\\Roaming\\Python\\Python38\\site-packages\\selenium\\webdriver\\remote\\errorhandler.py\u001b[0m in \u001b[0;36mcheck_response\u001b[1;34m(self, response)\u001b[0m\n\u001b[0;32m    240\u001b[0m                 \u001b[0malert_text\u001b[0m \u001b[1;33m=\u001b[0m \u001b[0mvalue\u001b[0m\u001b[1;33m[\u001b[0m\u001b[1;34m'alert'\u001b[0m\u001b[1;33m]\u001b[0m\u001b[1;33m.\u001b[0m\u001b[0mget\u001b[0m\u001b[1;33m(\u001b[0m\u001b[1;34m'text'\u001b[0m\u001b[1;33m)\u001b[0m\u001b[1;33m\u001b[0m\u001b[1;33m\u001b[0m\u001b[0m\n\u001b[0;32m    241\u001b[0m             \u001b[1;32mraise\u001b[0m \u001b[0mexception_class\u001b[0m\u001b[1;33m(\u001b[0m\u001b[0mmessage\u001b[0m\u001b[1;33m,\u001b[0m \u001b[0mscreen\u001b[0m\u001b[1;33m,\u001b[0m \u001b[0mstacktrace\u001b[0m\u001b[1;33m,\u001b[0m \u001b[0malert_text\u001b[0m\u001b[1;33m)\u001b[0m\u001b[1;33m\u001b[0m\u001b[1;33m\u001b[0m\u001b[0m\n\u001b[1;32m--> 242\u001b[1;33m         \u001b[1;32mraise\u001b[0m \u001b[0mexception_class\u001b[0m\u001b[1;33m(\u001b[0m\u001b[0mmessage\u001b[0m\u001b[1;33m,\u001b[0m \u001b[0mscreen\u001b[0m\u001b[1;33m,\u001b[0m \u001b[0mstacktrace\u001b[0m\u001b[1;33m)\u001b[0m\u001b[1;33m\u001b[0m\u001b[1;33m\u001b[0m\u001b[0m\n\u001b[0m\u001b[0;32m    243\u001b[0m \u001b[1;33m\u001b[0m\u001b[0m\n\u001b[0;32m    244\u001b[0m     \u001b[1;32mdef\u001b[0m \u001b[0m_value_or_default\u001b[0m\u001b[1;33m(\u001b[0m\u001b[0mself\u001b[0m\u001b[1;33m,\u001b[0m \u001b[0mobj\u001b[0m\u001b[1;33m,\u001b[0m \u001b[0mkey\u001b[0m\u001b[1;33m,\u001b[0m \u001b[0mdefault\u001b[0m\u001b[1;33m)\u001b[0m\u001b[1;33m:\u001b[0m\u001b[1;33m\u001b[0m\u001b[1;33m\u001b[0m\u001b[0m\n",
      "\u001b[1;31mNoSuchWindowException\u001b[0m: Message: no such window: window was already closed\n  (Session info: chrome=86.0.4240.111)\n"
     ]
    }
   ],
   "source": [
    "refrig_list = [x.text for x in refrig_data][0].split('\\nCompare\\n')"
   ]
  },
  {
   "cell_type": "code",
   "execution_count": null,
   "metadata": {},
   "outputs": [],
   "source": []
  },
  {
   "cell_type": "code",
   "execution_count": null,
   "metadata": {},
   "outputs": [],
   "source": []
  }
 ],
 "metadata": {
  "kernelspec": {
   "display_name": "Python 3",
   "language": "python",
   "name": "python3"
  },
  "language_info": {
   "codemirror_mode": {
    "name": "ipython",
    "version": 3
   },
   "file_extension": ".py",
   "mimetype": "text/x-python",
   "name": "python",
   "nbconvert_exporter": "python",
   "pygments_lexer": "ipython3",
   "version": "3.8.3"
  }
 },
 "nbformat": 4,
 "nbformat_minor": 4
}
