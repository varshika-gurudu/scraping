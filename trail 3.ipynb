{
 "cells": [
  {
   "cell_type": "code",
   "execution_count": null,
   "metadata": {},
   "outputs": [],
   "source": [
    "from selenium import webdriver\n",
    "from selenium.webdriver.common.keys import Keys\n",
    "import selenium.webdriver.support.ui as UI\n",
    "import time\n",
    "import pandas as pd\n",
    "from selenium.common.exceptions import StaleElementReferenceException\n",
    "from selenium.common.exceptions import NoSuchElementException\n",
    "from selenium.webdriver.support.ui import WebDriverWait\n",
    "from selenium.webdriver.support import expected_conditions as EC\n",
    "from selenium.webdriver.common.by import By\n"
   ]
  },
  {
   "cell_type": "code",
   "execution_count": null,
   "metadata": {},
   "outputs": [],
   "source": [
    "driver = webdriver.Chrome(\"C:/Users/varsh/Desktop/test project/files/chromedriver_win32/chromedriver.exe\")\n",
    "driver.implicitly_wait(2)\n",
    "driver.maximize_window()\n",
    "driver.get('https://www.homedepot.com/')\n",
    "driver.find_element_by_xpath('//*[@id=\"shop_by_category\"]/div[2]/div/div/nav/div[1]/a[1]').click()\n",
    "driver.find_element_by_xpath('//*[@id=\"EtchVisualNav_thd_424b\"]/nav/div[1]/a[2]').click()\n",
    "french_fridge = driver.find_element_by_xpath('//*[@id=\"column_thd_ce48\"]/div/div/div/div/a[2]').click()"
   ]
  },
  {
   "cell_type": "code",
   "execution_count": null,
   "metadata": {},
   "outputs": [],
   "source": [
    "refrig_byclass = driver.find_elements_by_class_name('product-pod--ie-fix')\n"
   ]
  },
  {
   "cell_type": "code",
   "execution_count": null,
   "metadata": {},
   "outputs": [],
   "source": [
    "def extract_links(driver):\n",
    "    refrig_byclass = driver.find_elements_by_class_name('product-pod--ie-fix')\n",
    "    refrig_byclass_list = [x.get_attribute('href') for x in refrig_byclass]\n",
    "    "
   ]
  },
  {
   "cell_type": "code",
   "execution_count": null,
   "metadata": {},
   "outputs": [],
   "source": [
    "pages = driver.find_elements_by_class_name('hd-pagination__item')"
   ]
  },
  {
   "cell_type": "code",
   "execution_count": null,
   "metadata": {},
   "outputs": [],
   "source": [
    "while True:\n",
    "    try:\n",
    "        \n",
    "        refrig_byclass = driver.find_elements_by_class_name('product-pod--ie-fix')\n",
    "        #pages = driver.find_elements_by_class_name('hd-pagination__item')\n",
    "    #current_page = driver.find_element_by_xpath('//*[@id=\"root\"]/div/div[2]/div/div[6]/div[2]/div[3]/div/nav/ul/li[1]/a')\n",
    "    #print('proccesing')\n",
    "        refrig_byclass_list = [x.get_attribute('href') for x in refrig_byclass]\n",
    "        driver.implicitly_wait(1)\n",
    "        #pages = driver.find_element_by_class_name('hd-pagination__item').click()\n",
    "        next_page = driver.find_element_by_xpath('//*[@id=\"root\"]/div/div[2]/div/div[6]/div[2]/div[3]/div/nav/ul/li[6]/a').click()\n",
    "        #driver.execute_script('arguments[0].click();',next_page)\n",
    "        #WebDriverWait(driver, 3).until(EC.element_to_be_clickable((By.XPATH,'//*[@id=\"root\"]/div/div[2]/div/div[6]/div[2]/div[3]/div/nav/ul/li[6]/a'))).click()\n",
    "        driver.implicitly_wait(2)\n",
    "        print(refrig_byclass_list)\n",
    "        print(len(refrig_byclass_list))\n",
    "    except StaleElementReferenceException:\n",
    "        print('error occured')\n",
    "        continue\n",
    "  \n",
    "    "
   ]
  },
  {
   "cell_type": "code",
   "execution_count": 41,
   "metadata": {},
   "outputs": [],
   "source": [
    "french_fridge_list = []"
   ]
  },
  {
   "cell_type": "code",
   "execution_count": 42,
   "metadata": {},
   "outputs": [],
   "source": [
    "def remove_none(refrig_byclass_list)\n",
    "    french_fridge_list = []\n",
    "    for i in refrig_byclass_list:        \n",
    "        if i not in french_fridge_list:\n",
    "            if i != None:\n",
    "                french_fridge_list.append(i)"
   ]
  },
  {
   "cell_type": "code",
   "execution_count": 43,
   "metadata": {},
   "outputs": [
    {
     "data": {
      "text/plain": [
       "['https://www.homedepot.com/p/LG-Electronics-22-1-cu-ft-French-Door-Smart-Refrigerator-with-InstaView-Door-in-Door-in-Black-Stainless-Steel-Counter-Depth-LFXC22596D/308814938',\n",
       " 'https://www.homedepot.com/p/Whirlpool-27-cu-ft-French-Door-Refrigerator-in-Fingerprint-Resistant-Stainless-Steel-WRF767SDHZ/305470672',\n",
       " 'https://www.homedepot.com/p/Cafe-18-6-cu-ft-French-Door-Refrigerator-in-Matte-Black-Fingerprint-Resistant-Counter-Depth-and-ENERGY-STAR-CWE19SP3ND1/308802376',\n",
       " 'https://www.homedepot.com/p/Cafe-27-8-cu-ft-Smart-French-Door-Refrigerator-with-Hot-Water-Dispenser-in-Matte-White-Fingerprint-Resistant-CFE28TP4MW2/306337624',\n",
       " 'https://www.homedepot.com/p/Samsung-33-in-W-19-4-cu-ft-French-Door-Refrigerator-in-Black-Stainless-RF20HFENBSG/303449558',\n",
       " 'https://www.homedepot.com/p/Frigidaire-26-8-cu-ft-French-Door-Refrigerator-in-Ebony-FFHB2750TE/301768238',\n",
       " 'https://www.homedepot.com/p/Cafe-27-8-cu-ft-Smart-French-Door-Refrigerator-with-Keurig-K-Cup-in-Stainless-Steel-ENERGY-STAR-CFE28UP2MS1/308802365',\n",
       " 'https://www.homedepot.com/p/GE-27-8-cu-ft-French-Door-Refrigerator-with-Door-in-Door-in-Black-Slate-Fingerprint-Resistant-GFD28GELDS/303120844',\n",
       " 'https://www.homedepot.com/p/GE-Profile-27-7-cu-ft-French-Door-Refrigerator-with-Hands-Free-Autofill-in-Fingerprint-Resistant-Stainless-Steel-PFD28KYNFS/312648557',\n",
       " 'https://www.homedepot.com/p/FRIGIDAIRE-GALLERY-21-7-cu-ft-French-Door-Refrigerator-in-Stainless-Steel-Counter-Depth-FGHD2368TF/303177911',\n",
       " 'https://www.homedepot.com/p/Whirlpool-26-cu-ft-French-Door-Refrigerator-in-Fingerprint-Resistant-Stainless-Steel-WRX986SIHZ/302693556',\n",
       " 'https://www.homedepot.com/p/Forno-Moena-36-in-19-2-cu-ft-French-Door-Refrigerator-with-Ice-Maker-in-Stainless-Steel-FFRBI1820-36SB/314019442',\n",
       " 'https://www.homedepot.com/p/Bosch-800-Series-36-in-25-cu-ft-French-Door-Refrigerator-in-Stainless-Steel-Standard-Depth-B26FT50SNS/304807659',\n",
       " 'https://www.homedepot.com/p/Frigidaire-27-6-cu-ft-Non-Dispenser-French-Door-Refrigerator-in-Stainless-Steel-ENERGY-STAR-FFHN2750TS/301768251',\n",
       " 'https://www.homedepot.com/p/GE-20-8-cu-ft-French-Door-Refrigerator-in-Stainless-Steel-ENERGY-STAR-GNE21FSKSS/206875941',\n",
       " 'https://www.homedepot.com/p/GE-27-cu-ft-French-Door-Refrigerator-in-Fingerprint-Resistant-Stainless-Steel-ENERGY-STAR-GNE27EYMFS/313759513',\n",
       " 'https://www.homedepot.com/p/Forno-Bovino-33-in-19-cu-ft-French-Door-No-Frost-Refrigerator-in-Stainless-Steel-FFFFD1907-33SB/312994396',\n",
       " 'https://www.homedepot.com/p/Maytag-22-cu-ft-French-Door-Refrigerator-in-Fingerprint-Resistant-Stainless-Steel-MFI2269FRZ/207200047',\n",
       " 'https://www.homedepot.com/p/FRIGIDAIRE-GALLERY-22-4-cu-ft-Non-Dispenser-French-Door-Refrigerator-in-Smudge-Proof-Stainless-Steel-Counter-Depth-FGHG2368TF/303628987',\n",
       " 'https://www.homedepot.com/p/LG-STUDIO-23-cu-ft-4-Door-French-Door-Refrigerator-in-Textured-Steel-with-Instaview-Door-in-Door-Counter-Depth-URNTC2306N/312706032',\n",
       " 'https://www.homedepot.com/p/Whirlpool-20-cu-ft-French-Door-Refrigerator-in-Fingerprint-Resistant-Stainless-Steel-WRF560SMHZ/302657616',\n",
       " 'https://www.homedepot.com/p/FRIGIDAIRE-GALLERY-26-8-cu-ft-French-Door-Refrigerator-in-Smudge-Proof-Stainless-Steel-FGHB2868TF/303502648',\n",
       " 'https://www.homedepot.com/p/KitchenAid-22-1-cu-ft-French-Door-Refrigerator-in-Stainless-Steel-with-Interior-Dispenser-KRFF302ESS/206020698',\n",
       " 'https://www.homedepot.com/p/KitchenAid-21-9-cu-ft-French-Door-Refrigerator-in-Stainless-Steel-Counter-Depth-KRFC302ESS/206268536']"
      ]
     },
     "execution_count": 43,
     "metadata": {},
     "output_type": "execute_result"
    }
   ],
   "source": [
    "french_fridge_list \n",
    "\n"
   ]
  },
  {
   "cell_type": "code",
   "execution_count": 30,
   "metadata": {},
   "outputs": [
    {
     "name": "stdout",
     "output_type": "stream",
     "text": [
      "['https://www.homedepot.com/p/Whirlpool-25-cu-ft-French-Door-Refrigerator-in-Fingerprint-Resistant-Stainless-Steel-with-Internal-Water-Dispenser-WRF535SWHZ/301688547', 'https://www.homedepot.com/p/Whirlpool-25-cu-ft-French-Door-Refrigerator-in-Fingerprint-Resistant-Stainless-Steel-with-Internal-Water-Dispenser-WRF535SWHZ/301688547', None, 'https://www.homedepot.com/p/Samsung-27-7-cu-ft-Family-Hub-4-Door-French-Door-Smart-Refrigerator-in-Fingerprint-Resistant-Stainless-Steel-RF28R7551SR/310516279', 'https://www.homedepot.com/p/Samsung-27-7-cu-ft-Family-Hub-4-Door-French-Door-Smart-Refrigerator-in-Fingerprint-Resistant-Stainless-Steel-RF28R7551SR/310516279', None, 'https://www.homedepot.com/p/Samsung-27-8-cu-ft-Food-Showcase-4-Door-French-Door-Refrigerator-in-Fingerprint-Resistant-Stainless-Steel-RF28R7351SR/308946147', 'https://www.homedepot.com/p/Samsung-27-8-cu-ft-Food-Showcase-4-Door-French-Door-Refrigerator-in-Fingerprint-Resistant-Stainless-Steel-RF28R7351SR/308946147', None, 'https://www.homedepot.com/p/Whirlpool-36-in-19-4-cu-ft-4-Door-French-Door-Refrigerator-in-Fingerprint-Resistant-Stainless-Steel-Counter-Depth-WRQA59CNKZ/313803342', 'https://www.homedepot.com/p/Whirlpool-36-in-19-4-cu-ft-4-Door-French-Door-Refrigerator-in-Fingerprint-Resistant-Stainless-Steel-Counter-Depth-WRQA59CNKZ/313803342', None, 'https://www.homedepot.com/p/GE-22-1-cu-ft-French-Door-Refrigerator-in-Fingerprint-Resistant-Stainless-Steel-Counter-Depth-and-ENERGY-STAR-GYE22GYNFS/312903946', 'https://www.homedepot.com/p/GE-22-1-cu-ft-French-Door-Refrigerator-in-Fingerprint-Resistant-Stainless-Steel-Counter-Depth-and-ENERGY-STAR-GYE22GYNFS/312903946', None, 'https://www.homedepot.com/p/Bosch-800-Series-36-in-21-cu-ft-French-3-Door-Refrigerator-in-Stainless-Steel-with-Dual-Compressor-Counter-Depth-B36CT80SNS/310324792', 'https://www.homedepot.com/p/Bosch-800-Series-36-in-21-cu-ft-French-3-Door-Refrigerator-in-Stainless-Steel-with-Dual-Compressor-Counter-Depth-B36CT80SNS/310324792', None, 'https://www.homedepot.com/p/KitchenAid-20-cu-ft-French-Door-Refrigerator-in-Stainless-Steel-Counter-Depth-KRFC300ESS/205905754', 'https://www.homedepot.com/p/KitchenAid-20-cu-ft-French-Door-Refrigerator-in-Stainless-Steel-Counter-Depth-KRFC300ESS/205905754', None, 'https://www.homedepot.com/p/Cafe-27-8-cu-ft-Smart-4-Door-French-Door-Refrigerator-in-Stainless-Steel-ENERGY-STAR-CVE28DP2NS1/311204772', 'https://www.homedepot.com/p/Cafe-27-8-cu-ft-Smart-4-Door-French-Door-Refrigerator-in-Stainless-Steel-ENERGY-STAR-CVE28DP2NS1/311204772', None, 'https://www.homedepot.com/p/KitchenAid-27-cu-ft-French-Door-Refrigerator-in-PrintShield-Stainless-with-Exterior-Ice-and-Water-KRFF507HPS/305444643', 'https://www.homedepot.com/p/KitchenAid-27-cu-ft-French-Door-Refrigerator-in-PrintShield-Stainless-with-Exterior-Ice-and-Water-KRFF507HPS/305444643', None, 'https://www.homedepot.com/p/LG-Electronics-23-5-cu-ft-Smart-French-Door-Refrigerator-Dual-Ice-Makers-with-Craft-Ice-in-PrintProof-Stainless-Steel-Counter-Depth-LRFXC2416S/312284218', 'https://www.homedepot.com/p/LG-Electronics-23-5-cu-ft-Smart-French-Door-Refrigerator-Dual-Ice-Makers-with-Craft-Ice-in-PrintProof-Stainless-Steel-Counter-Depth-LRFXC2416S/312284218', None, 'https://www.homedepot.com/p/LG-Electronics-23-cu-ft-4-Door-French-Door-Refrigerator-with-2-Freezer-Drawers-in-PrintProof-Stainless-Steel-Counter-Depth-LMWC23626S/312284889', 'https://www.homedepot.com/p/LG-Electronics-23-cu-ft-4-Door-French-Door-Refrigerator-with-2-Freezer-Drawers-in-PrintProof-Stainless-Steel-Counter-Depth-LMWC23626S/312284889', None, 'https://www.homedepot.com/p/Samsung-22-6-cu-ft-4-Door-French-Door-Refrigerator-with-Recessed-Handle-in-Stainless-Steel-Counter-Depth-RF23M8070SR/301328396', 'https://www.homedepot.com/p/Samsung-22-6-cu-ft-4-Door-French-Door-Refrigerator-with-Recessed-Handle-in-Stainless-Steel-Counter-Depth-RF23M8070SR/301328396', None, 'https://www.homedepot.com/p/Samsung-33-in-W-24-73-cu-ft-4-Door-French-Door-Refrigerator-in-Stainless-Steel-RF25HMIDBSR/314378030', 'https://www.homedepot.com/p/Samsung-33-in-W-24-73-cu-ft-4-Door-French-Door-Refrigerator-in-Stainless-Steel-RF25HMIDBSR/314378030', None, 'https://www.homedepot.com/p/LG-Electronics-29-7-cu-ft-Smart-French-Door-Refrigerator-InstaView-Door-In-Door-Dual-Ice-w-Craft-Ice-in-PrintProof-Stainless-Steel-LRFVS3006S/309931310', 'https://www.homedepot.com/p/LG-Electronics-29-7-cu-ft-Smart-French-Door-Refrigerator-InstaView-Door-In-Door-Dual-Ice-w-Craft-Ice-in-PrintProof-Stainless-Steel-LRFVS3006S/309931310', None, 'https://www.homedepot.com/p/LG-Electronics-29-7-cu-ft-Smart-French-Door-Refrigerator-InstaView-Door-In-Door-Dual-and-Craft-Ice-in-PrintProof-Stainless-Steel-LRMVS3006S/312285981', 'https://www.homedepot.com/p/LG-Electronics-29-7-cu-ft-Smart-French-Door-Refrigerator-InstaView-Door-In-Door-Dual-and-Craft-Ice-in-PrintProof-Stainless-Steel-LRMVS3006S/312285981', None, 'https://www.homedepot.com/p/GE-23-1-cu-ft-French-Door-Refrigerator-in-Fingerprint-Resistant-Stainless-Steel-Counter-Depth-and-ENERGY-STAR-GWE23GYNFS/312920902', 'https://www.homedepot.com/p/GE-23-1-cu-ft-French-Door-Refrigerator-in-Fingerprint-Resistant-Stainless-Steel-Counter-Depth-and-ENERGY-STAR-GWE23GYNFS/312920902', None, 'https://www.homedepot.com/p/LG-Electronics-22-1-cu-ft-French-Door-Smart-Refrigerator-with-InstaView-Door-in-Door-in-Stainless-Steel-Counter-Depth-LFXC22596S/306910773', 'https://www.homedepot.com/p/LG-Electronics-22-1-cu-ft-French-Door-Smart-Refrigerator-with-InstaView-Door-in-Door-in-Stainless-Steel-Counter-Depth-LFXC22596S/306910773', None, 'https://www.homedepot.com/p/Bosch-800-Series-36-in-21-cu-ft-French-4-Door-Refrigerator-in-Stainless-Steel-with-Dual-Compressor-Counter-Depth-B36CL80SNS/310324797', 'https://www.homedepot.com/p/Bosch-800-Series-36-in-21-cu-ft-French-4-Door-Refrigerator-in-Stainless-Steel-with-Dual-Compressor-Counter-Depth-B36CL80SNS/310324797', None, 'https://www.homedepot.com/p/LG-Electronics-21-8-cu-ft-French-Door-Refrigerator-with-External-Water-Dispenser-in-Stainless-Steel-LFDS22520S/304416120', 'https://www.homedepot.com/p/LG-Electronics-21-8-cu-ft-French-Door-Refrigerator-with-External-Water-Dispenser-in-Stainless-Steel-LFDS22520S/304416120', None, 'https://www.homedepot.com/p/Samsung-33-in-W-25-5-cu-ft-French-Door-Refrigerator-in-Stainless-Steel-RF26J7510SR/314378061', 'https://www.homedepot.com/p/Samsung-33-in-W-25-5-cu-ft-French-Door-Refrigerator-in-Stainless-Steel-RF26J7510SR/314378061', None, 'https://www.homedepot.com/p/LG-Electronics-26-2-cu-ft-French-Door-Smart-Refrigerator-with-Wi-Fi-Enabled-in-Black-Stainless-Steel-LFXS26973D/305573375', 'https://www.homedepot.com/p/LG-Electronics-26-2-cu-ft-French-Door-Smart-Refrigerator-with-Wi-Fi-Enabled-in-Black-Stainless-Steel-LFXS26973D/305573375', None, 'https://www.homedepot.com/p/Samsung-28-2-cu-ft-French-Door-Refrigerator-in-Stainless-Steel-with-internal-water-dispenser-RF28T5101SR/314024605', 'https://www.homedepot.com/p/Samsung-28-2-cu-ft-French-Door-Refrigerator-in-Stainless-Steel-with-internal-water-dispenser-RF28T5101SR/314024605', None, 'https://www.homedepot.com/p/Bosch-800-Series-36-in-21-cu-ft-French-4-Door-Refrigerator-in-Stainless-Steel-with-Dual-Compressor-Counter-Depth-B36CL80ENS/310324783', 'https://www.homedepot.com/p/Bosch-800-Series-36-in-21-cu-ft-French-4-Door-Refrigerator-in-Stainless-Steel-with-Dual-Compressor-Counter-Depth-B36CL80ENS/310324783', None, 'https://www.homedepot.com/p/LG-Electronics-24-50-cu-ft-3-Door-French-Door-Refrigerator-in-PrintProof-Stainless-with-Ice-and-Water-Dispenser-and-Slim-Door-Ice-LRFXS2503S/310558184', 'https://www.homedepot.com/p/LG-Electronics-24-50-cu-ft-3-Door-French-Door-Refrigerator-in-PrintProof-Stainless-with-Ice-and-Water-Dispenser-and-Slim-Door-Ice-LRFXS2503S/310558184', None]\n",
      "72\n"
     ]
    },
    {
     "data": {
      "text/plain": [
       "'try:\\n    for i in refrig_byclass_list:        \\n        if i not in french_fridge_list:\\n            if i != None:\\n                french_fridge_list.append(i)\\n                french_fridge_list = \\'\\n\\'.join(french_fridge_list)\\n        \\n                \\n    driver.find_element_by_xpath(\\'//*[@id=\"root\"]/div/div[2]/div/div[6]/div[2]/div[3]/div/nav/ul/li[6]/a\\').click()\\nexcept StaleElementReferenceException:\\n    print(\\'error occured\\')\\n    continue'"
      ]
     },
     "execution_count": 30,
     "metadata": {},
     "output_type": "execute_result"
    }
   ],
   "source": [
    "#for link in refrig_byclass:\n",
    "refrig_byclass_list = [x.get_attribute('href') for x in refrig_byclass]\n",
    "\n",
    "print(refrig_byclass_list,sep='\\n')\n",
    "print(len(refrig_byclass_list))\n",
    "\n",
    "\n",
    "\n",
    "'''try:\n",
    "    for i in refrig_byclass_list:        \n",
    "        if i not in french_fridge_list:\n",
    "            if i != None:\n",
    "                french_fridge_list.append(i)\n",
    "                french_fridge_list = '\\n'.join(french_fridge_list)\n",
    "        \n",
    "                \n",
    "    driver.find_element_by_xpath('//*[@id=\"root\"]/div/div[2]/div/div[6]/div[2]/div[3]/div/nav/ul/li[6]/a').click()\n",
    "except StaleElementReferenceException:\n",
    "    print('error occured')\n",
    "    continue'''\n",
    "    \n",
    "            \n",
    "        "
   ]
  },
  {
   "cell_type": "code",
   "execution_count": 34,
   "metadata": {},
   "outputs": [
    {
     "ename": "AttributeError",
     "evalue": "'list' object has no attribute 'split'",
     "output_type": "error",
     "traceback": [
      "\u001b[1;31m---------------------------------------------------------------------------\u001b[0m",
      "\u001b[1;31mAttributeError\u001b[0m                            Traceback (most recent call last)",
      "\u001b[1;32m<ipython-input-34-95739742c72c>\u001b[0m in \u001b[0;36m<module>\u001b[1;34m\u001b[0m\n\u001b[1;32m----> 1\u001b[1;33m \u001b[0mrefrig_byclass_list\u001b[0m\u001b[1;33m.\u001b[0m\u001b[0msplit\u001b[0m\u001b[1;33m(\u001b[0m\u001b[1;34m'\\n'\u001b[0m\u001b[1;33m)\u001b[0m\u001b[1;33m\u001b[0m\u001b[1;33m\u001b[0m\u001b[0m\n\u001b[0m",
      "\u001b[1;31mAttributeError\u001b[0m: 'list' object has no attribute 'split'"
     ]
    }
   ],
   "source": [
    "refrig_byclass_list.split('\\n')"
   ]
  },
  {
   "cell_type": "code",
   "execution_count": 33,
   "metadata": {},
   "outputs": [
    {
     "ename": "AttributeError",
     "evalue": "'NoneType' object has no attribute 'strip'",
     "output_type": "error",
     "traceback": [
      "\u001b[1;31m---------------------------------------------------------------------------\u001b[0m",
      "\u001b[1;31mAttributeError\u001b[0m                            Traceback (most recent call last)",
      "\u001b[1;32m<ipython-input-33-d3724d691e22>\u001b[0m in \u001b[0;36m<module>\u001b[1;34m\u001b[0m\n\u001b[1;32m----> 1\u001b[1;33m \u001b[0md\u001b[0m \u001b[1;33m=\u001b[0m \u001b[1;33m[\u001b[0m\u001b[0mx\u001b[0m\u001b[1;33m.\u001b[0m\u001b[0mstrip\u001b[0m\u001b[1;33m(\u001b[0m\u001b[1;33m)\u001b[0m\u001b[1;33m.\u001b[0m\u001b[0msplit\u001b[0m\u001b[1;33m(\u001b[0m\u001b[1;34m\"\\n\"\u001b[0m\u001b[1;33m)\u001b[0m \u001b[1;32mfor\u001b[0m \u001b[0mx\u001b[0m \u001b[1;32min\u001b[0m \u001b[0mrefrig_byclass_list\u001b[0m\u001b[1;33m]\u001b[0m\u001b[1;33m\u001b[0m\u001b[1;33m\u001b[0m\u001b[0m\n\u001b[0m\u001b[0;32m      2\u001b[0m \u001b[1;32mfor\u001b[0m \u001b[0mel\u001b[0m \u001b[1;32min\u001b[0m \u001b[0md\u001b[0m\u001b[1;33m:\u001b[0m\u001b[1;33m\u001b[0m\u001b[1;33m\u001b[0m\u001b[0m\n\u001b[0;32m      3\u001b[0m      \u001b[0mresult\u001b[0m \u001b[1;33m=\u001b[0m \u001b[0mresult\u001b[0m \u001b[1;33m+\u001b[0m \u001b[0mel\u001b[0m\u001b[1;33m\u001b[0m\u001b[1;33m\u001b[0m\u001b[0m\n",
      "\u001b[1;32m<ipython-input-33-d3724d691e22>\u001b[0m in \u001b[0;36m<listcomp>\u001b[1;34m(.0)\u001b[0m\n\u001b[1;32m----> 1\u001b[1;33m \u001b[0md\u001b[0m \u001b[1;33m=\u001b[0m \u001b[1;33m[\u001b[0m\u001b[0mx\u001b[0m\u001b[1;33m.\u001b[0m\u001b[0mstrip\u001b[0m\u001b[1;33m(\u001b[0m\u001b[1;33m)\u001b[0m\u001b[1;33m.\u001b[0m\u001b[0msplit\u001b[0m\u001b[1;33m(\u001b[0m\u001b[1;34m\"\\n\"\u001b[0m\u001b[1;33m)\u001b[0m \u001b[1;32mfor\u001b[0m \u001b[0mx\u001b[0m \u001b[1;32min\u001b[0m \u001b[0mrefrig_byclass_list\u001b[0m\u001b[1;33m]\u001b[0m\u001b[1;33m\u001b[0m\u001b[1;33m\u001b[0m\u001b[0m\n\u001b[0m\u001b[0;32m      2\u001b[0m \u001b[1;32mfor\u001b[0m \u001b[0mel\u001b[0m \u001b[1;32min\u001b[0m \u001b[0md\u001b[0m\u001b[1;33m:\u001b[0m\u001b[1;33m\u001b[0m\u001b[1;33m\u001b[0m\u001b[0m\n\u001b[0;32m      3\u001b[0m      \u001b[0mresult\u001b[0m \u001b[1;33m=\u001b[0m \u001b[0mresult\u001b[0m \u001b[1;33m+\u001b[0m \u001b[0mel\u001b[0m\u001b[1;33m\u001b[0m\u001b[1;33m\u001b[0m\u001b[0m\n",
      "\u001b[1;31mAttributeError\u001b[0m: 'NoneType' object has no attribute 'strip'"
     ]
    }
   ],
   "source": [
    "d = [x.strip().split(\"\\n\") for x in refrig_byclass_list]\n",
    "for el in d:\n",
    "     result = result + el"
   ]
  },
  {
   "cell_type": "code",
   "execution_count": 76,
   "metadata": {},
   "outputs": [
    {
     "ename": "ElementClickInterceptedException",
     "evalue": "Message: element click intercepted: Element <a class=\"hd-pagination__link  hd-pagination__current\" href=\"/b/Appliances-Refrigerators-French-Door-Refrigerators/N-5yc1vZc3oo?Nao=120\">...</a> is not clickable at point (938, 826). Other element would receive the click: <li class=\"hd-pagination__item\">...</li>\n  (Session info: chrome=86.0.4240.111)\n",
     "output_type": "error",
     "traceback": [
      "\u001b[1;31m---------------------------------------------------------------------------\u001b[0m",
      "\u001b[1;31mElementClickInterceptedException\u001b[0m          Traceback (most recent call last)",
      "\u001b[1;32m<ipython-input-76-9e5c0fe04793>\u001b[0m in \u001b[0;36m<module>\u001b[1;34m\u001b[0m\n\u001b[0;32m      2\u001b[0m \u001b[1;32mfor\u001b[0m \u001b[0melem\u001b[0m \u001b[1;32min\u001b[0m \u001b[0mrefrig_byclass\u001b[0m\u001b[1;33m:\u001b[0m\u001b[1;33m\u001b[0m\u001b[1;33m\u001b[0m\u001b[0m\n\u001b[0;32m      3\u001b[0m     \u001b[0mhref\u001b[0m \u001b[1;33m=\u001b[0m \u001b[0melem\u001b[0m\u001b[1;33m.\u001b[0m\u001b[0mget_attribute\u001b[0m\u001b[1;33m(\u001b[0m\u001b[1;34m'href'\u001b[0m\u001b[1;33m)\u001b[0m\u001b[1;33m\u001b[0m\u001b[1;33m\u001b[0m\u001b[0m\n\u001b[1;32m----> 4\u001b[1;33m     \u001b[0mnext_page\u001b[0m \u001b[1;33m=\u001b[0m \u001b[0mdriver\u001b[0m\u001b[1;33m.\u001b[0m\u001b[0mfind_element_by_xpath\u001b[0m\u001b[1;33m(\u001b[0m\u001b[1;34m'//*[@id=\"root\"]/div/div[2]/div/div[6]/div[2]/div[3]/div/nav/ul/li[6]/a'\u001b[0m\u001b[1;33m)\u001b[0m\u001b[1;33m.\u001b[0m\u001b[0mclick\u001b[0m\u001b[1;33m(\u001b[0m\u001b[1;33m)\u001b[0m\u001b[1;33m\u001b[0m\u001b[1;33m\u001b[0m\u001b[0m\n\u001b[0m\u001b[0;32m      5\u001b[0m     \u001b[1;32mif\u001b[0m \u001b[0mhref\u001b[0m \u001b[1;32mis\u001b[0m \u001b[1;32mnot\u001b[0m \u001b[1;32mNone\u001b[0m\u001b[1;33m:\u001b[0m\u001b[1;33m\u001b[0m\u001b[1;33m\u001b[0m\u001b[0m\n\u001b[0;32m      6\u001b[0m         \u001b[0mprint\u001b[0m\u001b[1;33m(\u001b[0m\u001b[0mhref\u001b[0m\u001b[1;33m)\u001b[0m\u001b[1;33m\u001b[0m\u001b[1;33m\u001b[0m\u001b[0m\n",
      "\u001b[1;32m~\\AppData\\Roaming\\Python\\Python38\\site-packages\\selenium\\webdriver\\remote\\webelement.py\u001b[0m in \u001b[0;36mclick\u001b[1;34m(self)\u001b[0m\n\u001b[0;32m     78\u001b[0m     \u001b[1;32mdef\u001b[0m \u001b[0mclick\u001b[0m\u001b[1;33m(\u001b[0m\u001b[0mself\u001b[0m\u001b[1;33m)\u001b[0m\u001b[1;33m:\u001b[0m\u001b[1;33m\u001b[0m\u001b[1;33m\u001b[0m\u001b[0m\n\u001b[0;32m     79\u001b[0m         \u001b[1;34m\"\"\"Clicks the element.\"\"\"\u001b[0m\u001b[1;33m\u001b[0m\u001b[1;33m\u001b[0m\u001b[0m\n\u001b[1;32m---> 80\u001b[1;33m         \u001b[0mself\u001b[0m\u001b[1;33m.\u001b[0m\u001b[0m_execute\u001b[0m\u001b[1;33m(\u001b[0m\u001b[0mCommand\u001b[0m\u001b[1;33m.\u001b[0m\u001b[0mCLICK_ELEMENT\u001b[0m\u001b[1;33m)\u001b[0m\u001b[1;33m\u001b[0m\u001b[1;33m\u001b[0m\u001b[0m\n\u001b[0m\u001b[0;32m     81\u001b[0m \u001b[1;33m\u001b[0m\u001b[0m\n\u001b[0;32m     82\u001b[0m     \u001b[1;32mdef\u001b[0m \u001b[0msubmit\u001b[0m\u001b[1;33m(\u001b[0m\u001b[0mself\u001b[0m\u001b[1;33m)\u001b[0m\u001b[1;33m:\u001b[0m\u001b[1;33m\u001b[0m\u001b[1;33m\u001b[0m\u001b[0m\n",
      "\u001b[1;32m~\\AppData\\Roaming\\Python\\Python38\\site-packages\\selenium\\webdriver\\remote\\webelement.py\u001b[0m in \u001b[0;36m_execute\u001b[1;34m(self, command, params)\u001b[0m\n\u001b[0;32m    631\u001b[0m             \u001b[0mparams\u001b[0m \u001b[1;33m=\u001b[0m \u001b[1;33m{\u001b[0m\u001b[1;33m}\u001b[0m\u001b[1;33m\u001b[0m\u001b[1;33m\u001b[0m\u001b[0m\n\u001b[0;32m    632\u001b[0m         \u001b[0mparams\u001b[0m\u001b[1;33m[\u001b[0m\u001b[1;34m'id'\u001b[0m\u001b[1;33m]\u001b[0m \u001b[1;33m=\u001b[0m \u001b[0mself\u001b[0m\u001b[1;33m.\u001b[0m\u001b[0m_id\u001b[0m\u001b[1;33m\u001b[0m\u001b[1;33m\u001b[0m\u001b[0m\n\u001b[1;32m--> 633\u001b[1;33m         \u001b[1;32mreturn\u001b[0m \u001b[0mself\u001b[0m\u001b[1;33m.\u001b[0m\u001b[0m_parent\u001b[0m\u001b[1;33m.\u001b[0m\u001b[0mexecute\u001b[0m\u001b[1;33m(\u001b[0m\u001b[0mcommand\u001b[0m\u001b[1;33m,\u001b[0m \u001b[0mparams\u001b[0m\u001b[1;33m)\u001b[0m\u001b[1;33m\u001b[0m\u001b[1;33m\u001b[0m\u001b[0m\n\u001b[0m\u001b[0;32m    634\u001b[0m \u001b[1;33m\u001b[0m\u001b[0m\n\u001b[0;32m    635\u001b[0m     \u001b[1;32mdef\u001b[0m \u001b[0mfind_element\u001b[0m\u001b[1;33m(\u001b[0m\u001b[0mself\u001b[0m\u001b[1;33m,\u001b[0m \u001b[0mby\u001b[0m\u001b[1;33m=\u001b[0m\u001b[0mBy\u001b[0m\u001b[1;33m.\u001b[0m\u001b[0mID\u001b[0m\u001b[1;33m,\u001b[0m \u001b[0mvalue\u001b[0m\u001b[1;33m=\u001b[0m\u001b[1;32mNone\u001b[0m\u001b[1;33m)\u001b[0m\u001b[1;33m:\u001b[0m\u001b[1;33m\u001b[0m\u001b[1;33m\u001b[0m\u001b[0m\n",
      "\u001b[1;32m~\\AppData\\Roaming\\Python\\Python38\\site-packages\\selenium\\webdriver\\remote\\webdriver.py\u001b[0m in \u001b[0;36mexecute\u001b[1;34m(self, driver_command, params)\u001b[0m\n\u001b[0;32m    319\u001b[0m         \u001b[0mresponse\u001b[0m \u001b[1;33m=\u001b[0m \u001b[0mself\u001b[0m\u001b[1;33m.\u001b[0m\u001b[0mcommand_executor\u001b[0m\u001b[1;33m.\u001b[0m\u001b[0mexecute\u001b[0m\u001b[1;33m(\u001b[0m\u001b[0mdriver_command\u001b[0m\u001b[1;33m,\u001b[0m \u001b[0mparams\u001b[0m\u001b[1;33m)\u001b[0m\u001b[1;33m\u001b[0m\u001b[1;33m\u001b[0m\u001b[0m\n\u001b[0;32m    320\u001b[0m         \u001b[1;32mif\u001b[0m \u001b[0mresponse\u001b[0m\u001b[1;33m:\u001b[0m\u001b[1;33m\u001b[0m\u001b[1;33m\u001b[0m\u001b[0m\n\u001b[1;32m--> 321\u001b[1;33m             \u001b[0mself\u001b[0m\u001b[1;33m.\u001b[0m\u001b[0merror_handler\u001b[0m\u001b[1;33m.\u001b[0m\u001b[0mcheck_response\u001b[0m\u001b[1;33m(\u001b[0m\u001b[0mresponse\u001b[0m\u001b[1;33m)\u001b[0m\u001b[1;33m\u001b[0m\u001b[1;33m\u001b[0m\u001b[0m\n\u001b[0m\u001b[0;32m    322\u001b[0m             response['value'] = self._unwrap_value(\n\u001b[0;32m    323\u001b[0m                 response.get('value', None))\n",
      "\u001b[1;32m~\\AppData\\Roaming\\Python\\Python38\\site-packages\\selenium\\webdriver\\remote\\errorhandler.py\u001b[0m in \u001b[0;36mcheck_response\u001b[1;34m(self, response)\u001b[0m\n\u001b[0;32m    240\u001b[0m                 \u001b[0malert_text\u001b[0m \u001b[1;33m=\u001b[0m \u001b[0mvalue\u001b[0m\u001b[1;33m[\u001b[0m\u001b[1;34m'alert'\u001b[0m\u001b[1;33m]\u001b[0m\u001b[1;33m.\u001b[0m\u001b[0mget\u001b[0m\u001b[1;33m(\u001b[0m\u001b[1;34m'text'\u001b[0m\u001b[1;33m)\u001b[0m\u001b[1;33m\u001b[0m\u001b[1;33m\u001b[0m\u001b[0m\n\u001b[0;32m    241\u001b[0m             \u001b[1;32mraise\u001b[0m \u001b[0mexception_class\u001b[0m\u001b[1;33m(\u001b[0m\u001b[0mmessage\u001b[0m\u001b[1;33m,\u001b[0m \u001b[0mscreen\u001b[0m\u001b[1;33m,\u001b[0m \u001b[0mstacktrace\u001b[0m\u001b[1;33m,\u001b[0m \u001b[0malert_text\u001b[0m\u001b[1;33m)\u001b[0m\u001b[1;33m\u001b[0m\u001b[1;33m\u001b[0m\u001b[0m\n\u001b[1;32m--> 242\u001b[1;33m         \u001b[1;32mraise\u001b[0m \u001b[0mexception_class\u001b[0m\u001b[1;33m(\u001b[0m\u001b[0mmessage\u001b[0m\u001b[1;33m,\u001b[0m \u001b[0mscreen\u001b[0m\u001b[1;33m,\u001b[0m \u001b[0mstacktrace\u001b[0m\u001b[1;33m)\u001b[0m\u001b[1;33m\u001b[0m\u001b[1;33m\u001b[0m\u001b[0m\n\u001b[0m\u001b[0;32m    243\u001b[0m \u001b[1;33m\u001b[0m\u001b[0m\n\u001b[0;32m    244\u001b[0m     \u001b[1;32mdef\u001b[0m \u001b[0m_value_or_default\u001b[0m\u001b[1;33m(\u001b[0m\u001b[0mself\u001b[0m\u001b[1;33m,\u001b[0m \u001b[0mobj\u001b[0m\u001b[1;33m,\u001b[0m \u001b[0mkey\u001b[0m\u001b[1;33m,\u001b[0m \u001b[0mdefault\u001b[0m\u001b[1;33m)\u001b[0m\u001b[1;33m:\u001b[0m\u001b[1;33m\u001b[0m\u001b[1;33m\u001b[0m\u001b[0m\n",
      "\u001b[1;31mElementClickInterceptedException\u001b[0m: Message: element click intercepted: Element <a class=\"hd-pagination__link  hd-pagination__current\" href=\"/b/Appliances-Refrigerators-French-Door-Refrigerators/N-5yc1vZc3oo?Nao=120\">...</a> is not clickable at point (938, 826). Other element would receive the click: <li class=\"hd-pagination__item\">...</li>\n  (Session info: chrome=86.0.4240.111)\n"
     ]
    }
   ],
   "source": [
    "refrig_byclass = driver.find_elements_by_class_name('product-pod--ie-fix')\n",
    "for elem in refrig_byclass:\n",
    "    href = elem.get_attribute('href')\n",
    "    next_page = driver.find_element_by_xpath('//*[@id=\"root\"]/div/div[2]/div/div[6]/div[2]/div[3]/div/nav/ul/li[6]/a').click()\n",
    "    if href is not None:\n",
    "        print(href)"
   ]
  },
  {
   "cell_type": "code",
   "execution_count": null,
   "metadata": {},
   "outputs": [],
   "source": [
    "page_links = driver.find_elements_by_xpath('//*[@id=\"root\"]/div/div[2]/div/div[6]/div[2]/div[3]/div/nav/ul/li[6]/a')\n",
    "print(len(page_links))\n",
    "for page_index in range(len(page_links)):\n",
    "\n",
    "    refrig_byclass = driver.find_elements_by_class_name('product-pod--ie-fix')\n",
    "    #current_page = driver.find_element_by_xpath('//*[@id=\"root\"]/div/div[2]/div/div[6]/div[2]/div[3]/div/nav/ul/li[1]/a')\n",
    "    #print('proccesing')\n",
    "    refrig_byclass_list = [x.get_attribute('href') for x in refrig_byclass]\n",
    "    next_page = driver.find_elements_by_xpath('//*[@id=\"root\"]/div/div[2]/div/div[6]/div[2]/div[3]/div/nav/ul/li[6]/a')[page_index].click()\n",
    "    print(refrig_byclass_list)\n",
    "    print(len(refrig_byclass_list))"
   ]
  },
  {
   "cell_type": "code",
   "execution_count": 176,
   "metadata": {},
   "outputs": [],
   "source": [
    "pages = driver.find_elements_by_class_name('hd-pagination__item')"
   ]
  },
  {
   "cell_type": "code",
   "execution_count": 177,
   "metadata": {},
   "outputs": [
    {
     "data": {
      "text/plain": [
       "[<selenium.webdriver.remote.webelement.WebElement (session=\"76eacb03284ed0f22aed93b2e2cd781c\", element=\"54d10581-7295-440b-9cb9-310b457c1ed8\")>,\n",
       " <selenium.webdriver.remote.webelement.WebElement (session=\"76eacb03284ed0f22aed93b2e2cd781c\", element=\"bbe9a027-10f0-47fb-920a-dbaa5f255e43\")>,\n",
       " <selenium.webdriver.remote.webelement.WebElement (session=\"76eacb03284ed0f22aed93b2e2cd781c\", element=\"05d2d240-e5be-4e23-b573-06c550726453\")>,\n",
       " <selenium.webdriver.remote.webelement.WebElement (session=\"76eacb03284ed0f22aed93b2e2cd781c\", element=\"44999e1b-eb04-4cd4-b831-9544c759302a\")>,\n",
       " <selenium.webdriver.remote.webelement.WebElement (session=\"76eacb03284ed0f22aed93b2e2cd781c\", element=\"40c119a0-ca43-4723-83f9-2740ae160a44\")>,\n",
       " <selenium.webdriver.remote.webelement.WebElement (session=\"76eacb03284ed0f22aed93b2e2cd781c\", element=\"aeec9658-c2a3-4804-8ce7-4f2873f3306a\")>,\n",
       " <selenium.webdriver.remote.webelement.WebElement (session=\"76eacb03284ed0f22aed93b2e2cd781c\", element=\"3c17b7e0-798f-4a5a-84f3-9105bd34f2d3\")>]"
      ]
     },
     "execution_count": 177,
     "metadata": {},
     "output_type": "execute_result"
    }
   ],
   "source": [
    "pages"
   ]
  },
  {
   "cell_type": "code",
   "execution_count": 181,
   "metadata": {},
   "outputs": [
    {
     "data": {
      "text/plain": [
       "7"
      ]
     },
     "execution_count": 181,
     "metadata": {},
     "output_type": "execute_result"
    }
   ],
   "source": [
    "len(pages)"
   ]
  },
  {
   "cell_type": "code",
   "execution_count": 182,
   "metadata": {},
   "outputs": [
    {
     "ename": "StaleElementReferenceException",
     "evalue": "Message: stale element reference: element is not attached to the page document\n  (Session info: chrome=86.0.4240.111)\n",
     "output_type": "error",
     "traceback": [
      "\u001b[1;31m---------------------------------------------------------------------------\u001b[0m",
      "\u001b[1;31mStaleElementReferenceException\u001b[0m            Traceback (most recent call last)",
      "\u001b[1;32m<ipython-input-182-05e385e23767>\u001b[0m in \u001b[0;36m<module>\u001b[1;34m\u001b[0m\n\u001b[0;32m      1\u001b[0m \u001b[1;32mfor\u001b[0m \u001b[0mpage\u001b[0m \u001b[1;32min\u001b[0m \u001b[0mpages\u001b[0m\u001b[1;33m:\u001b[0m\u001b[1;33m\u001b[0m\u001b[1;33m\u001b[0m\u001b[0m\n\u001b[1;32m----> 2\u001b[1;33m     \u001b[0mrefrig_byclass_list\u001b[0m \u001b[1;33m=\u001b[0m \u001b[1;33m[\u001b[0m\u001b[0mx\u001b[0m\u001b[1;33m.\u001b[0m\u001b[0mget_attribute\u001b[0m\u001b[1;33m(\u001b[0m\u001b[1;34m'href'\u001b[0m\u001b[1;33m)\u001b[0m \u001b[1;32mfor\u001b[0m \u001b[0mx\u001b[0m \u001b[1;32min\u001b[0m \u001b[0mrefrig_byclass\u001b[0m\u001b[1;33m]\u001b[0m\u001b[1;33m\u001b[0m\u001b[1;33m\u001b[0m\u001b[0m\n\u001b[0m\u001b[0;32m      3\u001b[0m     \u001b[0mnext_page\u001b[0m \u001b[1;33m=\u001b[0m \u001b[0mpage\u001b[0m\u001b[1;33m.\u001b[0m\u001b[0mclick\u001b[0m\u001b[1;33m(\u001b[0m\u001b[1;33m)\u001b[0m\u001b[1;33m\u001b[0m\u001b[1;33m\u001b[0m\u001b[0m\n\u001b[0;32m      4\u001b[0m     \u001b[0mtime\u001b[0m\u001b[1;33m.\u001b[0m\u001b[0msleep\u001b[0m\u001b[1;33m(\u001b[0m\u001b[1;36m3\u001b[0m\u001b[1;33m)\u001b[0m\u001b[1;33m\u001b[0m\u001b[1;33m\u001b[0m\u001b[0m\n\u001b[0;32m      5\u001b[0m     \u001b[0mprint\u001b[0m\u001b[1;33m(\u001b[0m\u001b[0mrefrig_byclass_list\u001b[0m\u001b[1;33m)\u001b[0m\u001b[1;33m\u001b[0m\u001b[1;33m\u001b[0m\u001b[0m\n",
      "\u001b[1;32m<ipython-input-182-05e385e23767>\u001b[0m in \u001b[0;36m<listcomp>\u001b[1;34m(.0)\u001b[0m\n\u001b[0;32m      1\u001b[0m \u001b[1;32mfor\u001b[0m \u001b[0mpage\u001b[0m \u001b[1;32min\u001b[0m \u001b[0mpages\u001b[0m\u001b[1;33m:\u001b[0m\u001b[1;33m\u001b[0m\u001b[1;33m\u001b[0m\u001b[0m\n\u001b[1;32m----> 2\u001b[1;33m     \u001b[0mrefrig_byclass_list\u001b[0m \u001b[1;33m=\u001b[0m \u001b[1;33m[\u001b[0m\u001b[0mx\u001b[0m\u001b[1;33m.\u001b[0m\u001b[0mget_attribute\u001b[0m\u001b[1;33m(\u001b[0m\u001b[1;34m'href'\u001b[0m\u001b[1;33m)\u001b[0m \u001b[1;32mfor\u001b[0m \u001b[0mx\u001b[0m \u001b[1;32min\u001b[0m \u001b[0mrefrig_byclass\u001b[0m\u001b[1;33m]\u001b[0m\u001b[1;33m\u001b[0m\u001b[1;33m\u001b[0m\u001b[0m\n\u001b[0m\u001b[0;32m      3\u001b[0m     \u001b[0mnext_page\u001b[0m \u001b[1;33m=\u001b[0m \u001b[0mpage\u001b[0m\u001b[1;33m.\u001b[0m\u001b[0mclick\u001b[0m\u001b[1;33m(\u001b[0m\u001b[1;33m)\u001b[0m\u001b[1;33m\u001b[0m\u001b[1;33m\u001b[0m\u001b[0m\n\u001b[0;32m      4\u001b[0m     \u001b[0mtime\u001b[0m\u001b[1;33m.\u001b[0m\u001b[0msleep\u001b[0m\u001b[1;33m(\u001b[0m\u001b[1;36m3\u001b[0m\u001b[1;33m)\u001b[0m\u001b[1;33m\u001b[0m\u001b[1;33m\u001b[0m\u001b[0m\n\u001b[0;32m      5\u001b[0m     \u001b[0mprint\u001b[0m\u001b[1;33m(\u001b[0m\u001b[0mrefrig_byclass_list\u001b[0m\u001b[1;33m)\u001b[0m\u001b[1;33m\u001b[0m\u001b[1;33m\u001b[0m\u001b[0m\n",
      "\u001b[1;32m~\\AppData\\Roaming\\Python\\Python38\\site-packages\\selenium\\webdriver\\remote\\webelement.py\u001b[0m in \u001b[0;36mget_attribute\u001b[1;34m(self, name)\u001b[0m\n\u001b[0;32m    137\u001b[0m         \u001b[0mattributeValue\u001b[0m \u001b[1;33m=\u001b[0m \u001b[1;34m''\u001b[0m\u001b[1;33m\u001b[0m\u001b[1;33m\u001b[0m\u001b[0m\n\u001b[0;32m    138\u001b[0m         \u001b[1;32mif\u001b[0m \u001b[0mself\u001b[0m\u001b[1;33m.\u001b[0m\u001b[0m_w3c\u001b[0m\u001b[1;33m:\u001b[0m\u001b[1;33m\u001b[0m\u001b[1;33m\u001b[0m\u001b[0m\n\u001b[1;32m--> 139\u001b[1;33m             attributeValue = self.parent.execute_script(\n\u001b[0m\u001b[0;32m    140\u001b[0m                 \u001b[1;34m\"return (%s).apply(null, arguments);\"\u001b[0m \u001b[1;33m%\u001b[0m \u001b[0mgetAttribute_js\u001b[0m\u001b[1;33m,\u001b[0m\u001b[1;33m\u001b[0m\u001b[1;33m\u001b[0m\u001b[0m\n\u001b[0;32m    141\u001b[0m                 self, name)\n",
      "\u001b[1;32m~\\AppData\\Roaming\\Python\\Python38\\site-packages\\selenium\\webdriver\\remote\\webdriver.py\u001b[0m in \u001b[0;36mexecute_script\u001b[1;34m(self, script, *args)\u001b[0m\n\u001b[0;32m    632\u001b[0m             \u001b[0mcommand\u001b[0m \u001b[1;33m=\u001b[0m \u001b[0mCommand\u001b[0m\u001b[1;33m.\u001b[0m\u001b[0mEXECUTE_SCRIPT\u001b[0m\u001b[1;33m\u001b[0m\u001b[1;33m\u001b[0m\u001b[0m\n\u001b[0;32m    633\u001b[0m \u001b[1;33m\u001b[0m\u001b[0m\n\u001b[1;32m--> 634\u001b[1;33m         return self.execute(command, {\n\u001b[0m\u001b[0;32m    635\u001b[0m             \u001b[1;34m'script'\u001b[0m\u001b[1;33m:\u001b[0m \u001b[0mscript\u001b[0m\u001b[1;33m,\u001b[0m\u001b[1;33m\u001b[0m\u001b[1;33m\u001b[0m\u001b[0m\n\u001b[0;32m    636\u001b[0m             'args': converted_args})['value']\n",
      "\u001b[1;32m~\\AppData\\Roaming\\Python\\Python38\\site-packages\\selenium\\webdriver\\remote\\webdriver.py\u001b[0m in \u001b[0;36mexecute\u001b[1;34m(self, driver_command, params)\u001b[0m\n\u001b[0;32m    319\u001b[0m         \u001b[0mresponse\u001b[0m \u001b[1;33m=\u001b[0m \u001b[0mself\u001b[0m\u001b[1;33m.\u001b[0m\u001b[0mcommand_executor\u001b[0m\u001b[1;33m.\u001b[0m\u001b[0mexecute\u001b[0m\u001b[1;33m(\u001b[0m\u001b[0mdriver_command\u001b[0m\u001b[1;33m,\u001b[0m \u001b[0mparams\u001b[0m\u001b[1;33m)\u001b[0m\u001b[1;33m\u001b[0m\u001b[1;33m\u001b[0m\u001b[0m\n\u001b[0;32m    320\u001b[0m         \u001b[1;32mif\u001b[0m \u001b[0mresponse\u001b[0m\u001b[1;33m:\u001b[0m\u001b[1;33m\u001b[0m\u001b[1;33m\u001b[0m\u001b[0m\n\u001b[1;32m--> 321\u001b[1;33m             \u001b[0mself\u001b[0m\u001b[1;33m.\u001b[0m\u001b[0merror_handler\u001b[0m\u001b[1;33m.\u001b[0m\u001b[0mcheck_response\u001b[0m\u001b[1;33m(\u001b[0m\u001b[0mresponse\u001b[0m\u001b[1;33m)\u001b[0m\u001b[1;33m\u001b[0m\u001b[1;33m\u001b[0m\u001b[0m\n\u001b[0m\u001b[0;32m    322\u001b[0m             response['value'] = self._unwrap_value(\n\u001b[0;32m    323\u001b[0m                 response.get('value', None))\n",
      "\u001b[1;32m~\\AppData\\Roaming\\Python\\Python38\\site-packages\\selenium\\webdriver\\remote\\errorhandler.py\u001b[0m in \u001b[0;36mcheck_response\u001b[1;34m(self, response)\u001b[0m\n\u001b[0;32m    240\u001b[0m                 \u001b[0malert_text\u001b[0m \u001b[1;33m=\u001b[0m \u001b[0mvalue\u001b[0m\u001b[1;33m[\u001b[0m\u001b[1;34m'alert'\u001b[0m\u001b[1;33m]\u001b[0m\u001b[1;33m.\u001b[0m\u001b[0mget\u001b[0m\u001b[1;33m(\u001b[0m\u001b[1;34m'text'\u001b[0m\u001b[1;33m)\u001b[0m\u001b[1;33m\u001b[0m\u001b[1;33m\u001b[0m\u001b[0m\n\u001b[0;32m    241\u001b[0m             \u001b[1;32mraise\u001b[0m \u001b[0mexception_class\u001b[0m\u001b[1;33m(\u001b[0m\u001b[0mmessage\u001b[0m\u001b[1;33m,\u001b[0m \u001b[0mscreen\u001b[0m\u001b[1;33m,\u001b[0m \u001b[0mstacktrace\u001b[0m\u001b[1;33m,\u001b[0m \u001b[0malert_text\u001b[0m\u001b[1;33m)\u001b[0m\u001b[1;33m\u001b[0m\u001b[1;33m\u001b[0m\u001b[0m\n\u001b[1;32m--> 242\u001b[1;33m         \u001b[1;32mraise\u001b[0m \u001b[0mexception_class\u001b[0m\u001b[1;33m(\u001b[0m\u001b[0mmessage\u001b[0m\u001b[1;33m,\u001b[0m \u001b[0mscreen\u001b[0m\u001b[1;33m,\u001b[0m \u001b[0mstacktrace\u001b[0m\u001b[1;33m)\u001b[0m\u001b[1;33m\u001b[0m\u001b[1;33m\u001b[0m\u001b[0m\n\u001b[0m\u001b[0;32m    243\u001b[0m \u001b[1;33m\u001b[0m\u001b[0m\n\u001b[0;32m    244\u001b[0m     \u001b[1;32mdef\u001b[0m \u001b[0m_value_or_default\u001b[0m\u001b[1;33m(\u001b[0m\u001b[0mself\u001b[0m\u001b[1;33m,\u001b[0m \u001b[0mobj\u001b[0m\u001b[1;33m,\u001b[0m \u001b[0mkey\u001b[0m\u001b[1;33m,\u001b[0m \u001b[0mdefault\u001b[0m\u001b[1;33m)\u001b[0m\u001b[1;33m:\u001b[0m\u001b[1;33m\u001b[0m\u001b[1;33m\u001b[0m\u001b[0m\n",
      "\u001b[1;31mStaleElementReferenceException\u001b[0m: Message: stale element reference: element is not attached to the page document\n  (Session info: chrome=86.0.4240.111)\n"
     ]
    }
   ],
   "source": [
    "for page in pages:\n",
    "    refrig_byclass_list = [x.get_attribute('href') for x in refrig_byclass]\n",
    "    next_page = page.click()\n",
    "    time.sleep(3)\n",
    "    print(refrig_byclass_list)\n",
    "    print(len(refrig_byclass_list))\n",
    "    \n",
    "    "
   ]
  },
  {
   "cell_type": "code",
   "execution_count": null,
   "metadata": {},
   "outputs": [],
   "source": []
  },
  {
   "cell_type": "code",
   "execution_count": null,
   "metadata": {},
   "outputs": [],
   "source": []
  }
 ],
 "metadata": {
  "kernelspec": {
   "display_name": "Python 3",
   "language": "python",
   "name": "python3"
  },
  "language_info": {
   "codemirror_mode": {
    "name": "ipython",
    "version": 3
   },
   "file_extension": ".py",
   "mimetype": "text/x-python",
   "name": "python",
   "nbconvert_exporter": "python",
   "pygments_lexer": "ipython3",
   "version": "3.8.3"
  }
 },
 "nbformat": 4,
 "nbformat_minor": 4
}
