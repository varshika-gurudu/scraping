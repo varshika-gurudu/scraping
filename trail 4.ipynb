{
 "cells": [
  {
   "cell_type": "code",
   "execution_count": 238,
   "metadata": {},
   "outputs": [],
   "source": [
    "from selenium import webdriver\n",
    "from selenium.webdriver.common.keys import Keys\n",
    "import selenium.webdriver.support.ui as UI\n",
    "import time\n",
    "import pandas as pd\n",
    "from selenium.common.exceptions import StaleElementReferenceException\n",
    "from selenium.common.exceptions import NoSuchElementException\n",
    "from selenium.webdriver.support.ui import WebDriverWait\n",
    "from selenium.webdriver.support import expected_conditions as EC\n",
    "from selenium.webdriver.common.by import By\n",
    "import csv"
   ]
  },
  {
   "cell_type": "code",
   "execution_count": 241,
   "metadata": {},
   "outputs": [],
   "source": [
    "driver = webdriver.Chrome(\"C:/Users/varsh/Desktop/test project/files/chromedriver_win32/chromedriver.exe\")\n",
    "driver.implicitly_wait(2)\n",
    "driver.maximize_window()\n",
    "driver.get('https://www.homedepot.com/')\n",
    "driver.find_element_by_xpath('//*[@id=\"shop by category\"]/div[2]/div/div/nav/div[1]/a[2]').click()\n",
    "driver.find_element_by_xpath('//*[@id=\"EtchVisualNav_thd_424b\"]/nav/div[1]/a[2]').click()\n",
    "french_fridge = driver.find_element_by_xpath('//*[@id=\"column_thd_ce48\"]/div/div/div/div/a[2]').click()"
   ]
  },
  {
   "cell_type": "code",
   "execution_count": 242,
   "metadata": {},
   "outputs": [],
   "source": [
    "def extract_links(driver):\n",
    "    french_fridge_list = []\n",
    "    list_of_links = []\n",
    "    refrig_byclass = driver.find_elements_by_class_name('product-pod--ie-fix')\n",
    "    refrig_byclass_list = [x.get_attribute('href') for x in refrig_byclass]\n",
    "    \n",
    "    for i in refrig_byclass_list:        \n",
    "        if i not in french_fridge_list:\n",
    "            if i != None:\n",
    "                french_fridge_list.append(i)\n",
    "                \n",
    "    \n",
    "    #list_of_links += french_fridge_list\n",
    "    ##print(list_of_links)\n",
    "    print(french_fridge_list)\n",
    "    '''#print(len(list_of_links))\n",
    "   for link in french_fridge_list:\n",
    "        try:\n",
    "            driver.get(link)\n",
    "            #time.sleep(1)\n",
    "            title = driver.find_elements_by_class_name('product-title')[0].text\n",
    "            price = driver.find_elements_by_xpath('//*[@id=\"eco-rebate-price\"]/div[1]/div/span[2]')[0].text\n",
    "            print(title)\n",
    "            print(price)\n",
    "            driver.implicitly_wait(1)\n",
    "        #driver.back()\n",
    "        except StaleElementReferenceException:\n",
    "            print('error occured')\n",
    "            continue'''\n",
    "    \n",
    "     \n",
    "        \n",
    "        \n",
    "    "
   ]
  },
  {
   "cell_type": "code",
   "execution_count": 177,
   "metadata": {},
   "outputs": [],
   "source": [
    "def list_of_links(french_fridge_list):\n",
    "    links = []\n",
    "    links += french_fridge_list\n",
    "    print(links)"
   ]
  },
  {
   "cell_type": "code",
   "execution_count": 243,
   "metadata": {},
   "outputs": [
    {
     "name": "stdout",
     "output_type": "stream",
     "text": [
      "page 1\n",
      "['https://www.homedepot.com/p/LG-Electronics-27-8-cu-ft-4-Door-French-Door-Smart-Refrigerator-with-2-Freezer-Drawers-and-Wi-Fi-Enabled-in-Stainless-Steel-LMXS28626S/302253240', 'https://www.homedepot.com/p/Samsung-27-cu-ft-French-Door-Refrigerator-in-Fingerprint-Resistant-Black-Stainless-Steel-RF27T5201SG/312904394', 'https://www.homedepot.com/p/Whirlpool-25-cu-ft-French-Door-Refrigerator-in-Fingerprint-Resistant-Stainless-Steel-WRX735SDHZ/301859152', 'https://www.homedepot.com/p/Maytag-22-cu-ft-French-Door-Refrigerator-in-Black-with-Beverage-Chiller-Compartment-MFI2269FRB/300539685', 'https://www.homedepot.com/p/GE-Profile-27-9-cu-ft-Smart-4-Door-French-Door-Refrigerator-with-Door-in-Door-in-Fingerprint-Resistant-Stainless-Steel-PVD28BYNFS/311411352', 'https://www.homedepot.com/p/LG-Electronics-30-in-W-21-8-cu-ft-French-Door-Refrigerator-in-Stainless-Steel-LFC22770ST/205033976', 'https://www.homedepot.com/p/Samsung-33-in-W-17-5-cu-ft-French-Door-Refrigerator-in-Stainless-Steel-and-Counter-Depth-RF18HFENBSR-2/302577277', 'https://www.homedepot.com/p/Maytag-22-cu-ft-French-Door-Refrigerator-in-White-MFI2269FRW/300539774', 'https://www.homedepot.com/p/LG-Electronics-30-in-W-21-8-cu-ft-French-Door-Refrigerator-in-Stainless-Steel-LFCS22520S/206452443', 'https://www.homedepot.com/p/Whirlpool-25-cu-ft-French-Door-Refrigerator-in-Fingerprint-Resistant-Stainless-Steel-WRF555SDFZ/301711642', 'https://www.homedepot.com/p/LG-Electronics-22-cu-ft-French-Door-Smart-Refrigerator-with-Wi-Fi-Enabled-in-Stainless-Steel-Counter-Depth-LFXC22526S/306750351', 'https://www.homedepot.com/p/Maytag-25-cu-ft-French-Door-Refrigerator-in-Black-with-POWER-COLD-Feature-MFI2570FEB/300562030', 'https://www.homedepot.com/p/Samsung-28-cu-ft-4-Door-French-Door-Refrigerator-in-Fingerprint-Resistant-Stainless-Steel-RF28R7201SR/308743988', 'https://www.homedepot.com/p/GE-27-0-cu-ft-French-Door-Refrigerator-in-Fingerprint-Resistant-Stainless-Steel-ENERGY-STAR-GNE27JYMFS/312980601', 'https://www.homedepot.com/p/LG-Electronics-26-2-cu-ft-French-Door-Smart-Refrigerator-with-Wi-Fi-Enabled-in-Stainless-Steel-LFXS26973S/305573330', 'https://www.homedepot.com/p/Maytag-22-cu-ft-French-Door-Refrigerator-in-Fingerprint-Resistant-Stainless-Steel-MFI2269FRZ/207200047', 'https://www.homedepot.com/p/Samsung-23-cu-ft-3-Door-French-Door-Refrigerator-in-Stainless-Steel-with-CoolSelect-Pantry-Counter-Depth-RF23R6201SR/310428856', 'https://www.homedepot.com/p/GE-18-6-cu-ft-French-Door-Refrigerator-in-Stainless-Steel-Counter-Depth-GWE19JSLSS/303345832', 'https://www.homedepot.com/p/Samsung-28-2-cu-ft-French-Door-Refrigerator-in-Stainless-Steel-RF28T5001SR/314024432', 'https://www.homedepot.com/p/LG-Electronics-23-cu-ft-Counter-Depth-3-Door-French-Door-Refrigerator-in-PrintProof-Stainless-Steel-LFCC22426S/306803830', 'https://www.homedepot.com/p/Samsung-30-in-W-21-8-cu-ft-French-Door-Refrigerator-in-Stainless-Steel-RF220NCTASR/203707196', 'https://www.homedepot.com/p/LG-Electronics-33-in-25-cu-ft-3-Door-French-Door-Refrigerator-in-PrintProof-Stainless-Steel-LRFCS25D3S/314145556', 'https://www.homedepot.com/p/LG-Electronics-26-cu-ft-3-Door-French-Door-Smart-Refrigerator-with-InstaView-Door-in-Door-in-Stainless-Steel-LFXS26596S/305712398', 'https://www.homedepot.com/p/GE-27-7-cu-ft-French-Door-Refrigerator-in-Fingerprint-Resistant-Stainless-Steel-ENERGY-STAR-GFE28GYNFS/312648552', 'https://www.homedepot.com/p/Samsung-26-5-cu-ft-Family-Hub-French-Door-Smart-Refrigerator-in-Fingerprint-Resistant-Stainless-Steel-RF27T5501SR/312904454', 'https://www.homedepot.com/p/LG-Electronics-29-5-cu-ft-Smart-French-4-Door-Door-In-Door-Full-Convert-with-Craft-Ice-Refrigerator-in-PrintProof-Stainless-Steel-LRMDS3006S/312285857', 'https://www.homedepot.com/p/GE-24-7-cu-ft-French-Door-Refrigerator-in-Stainless-Steel-ENERGY-STAR-GNE25JSKSS/206875972', 'https://www.homedepot.com/p/GE-Profile-22-1-cu-ft-French-Door-Refrigerator-with-Autofill-in-Fingerprint-Resistant-Stainless-Steel-Counter-Depth-PYE22KYNFS/312648559']\n"
     ]
    }
   ],
   "source": [
    "print('page 1')\n",
    "extract_links(driver)\n"
   ]
  },
  {
   "cell_type": "code",
   "execution_count": 244,
   "metadata": {},
   "outputs": [],
   "source": [
    "pages = driver.find_elements_by_class_name('hd-pagination__item')"
   ]
  },
  {
   "cell_type": "code",
   "execution_count": 245,
   "metadata": {},
   "outputs": [
    {
     "data": {
      "text/plain": [
       "[<selenium.webdriver.remote.webelement.WebElement (session=\"4deedd8ddd844d72b72d15cbeba671cb\", element=\"0432cd72-77f4-412d-b847-79e0bf1b4038\")>,\n",
       " <selenium.webdriver.remote.webelement.WebElement (session=\"4deedd8ddd844d72b72d15cbeba671cb\", element=\"5f313054-8444-4173-af02-b3ffbd7b0fde\")>,\n",
       " <selenium.webdriver.remote.webelement.WebElement (session=\"4deedd8ddd844d72b72d15cbeba671cb\", element=\"879b9ea2-2509-488e-936a-9aeb6abcbba3\")>,\n",
       " <selenium.webdriver.remote.webelement.WebElement (session=\"4deedd8ddd844d72b72d15cbeba671cb\", element=\"fcfbe125-bd73-4205-ae4c-25af5ef6a998\")>,\n",
       " <selenium.webdriver.remote.webelement.WebElement (session=\"4deedd8ddd844d72b72d15cbeba671cb\", element=\"be2bac23-dfc1-4a9a-9b36-dd4830071a5f\")>,\n",
       " <selenium.webdriver.remote.webelement.WebElement (session=\"4deedd8ddd844d72b72d15cbeba671cb\", element=\"98700ef3-c713-41a9-84dd-eb6cc68251b2\")>]"
      ]
     },
     "execution_count": 245,
     "metadata": {},
     "output_type": "execute_result"
    }
   ],
   "source": [
    "pages"
   ]
  },
  {
   "cell_type": "code",
   "execution_count": 246,
   "metadata": {},
   "outputs": [],
   "source": [
    "p = len(pages)"
   ]
  },
  {
   "cell_type": "code",
   "execution_count": 247,
   "metadata": {},
   "outputs": [
    {
     "data": {
      "text/plain": [
       "6"
      ]
     },
     "execution_count": 247,
     "metadata": {},
     "output_type": "execute_result"
    }
   ],
   "source": [
    "p"
   ]
  },
  {
   "cell_type": "code",
   "execution_count": 248,
   "metadata": {},
   "outputs": [],
   "source": [
    "for link in french_fridge_list[0:5]:\n",
    "    try:\n",
    "        driver.get(link)\n",
    "        #time.sleep(1)\n",
    "        title = driver.find_elements_by_class_name('product-title')[0].text\n",
    "        price = driver.find_elements_by_xpath('//*[@id=\"eco-rebate-price\"]/div[1]/div/span[2]')[0].text\n",
    "        print(title)\n",
    "        print(price)\n",
    "        driver.implicitly_wait(1)\n",
    "        #driver.back()\n",
    "    except StaleElementReferenceException:\n",
    "        print('error occured')\n",
    "        continue"
   ]
  },
  {
   "cell_type": "code",
   "execution_count": 233,
   "metadata": {},
   "outputs": [
    {
     "name": "stdout",
     "output_type": "stream",
     "text": [
      "['https://www.homedepot.com/p/LG-Electronics-27-8-cu-ft-4-Door-French-Door-Smart-Refrigerator-with-2-Freezer-Drawers-and-Wi-Fi-Enabled-in-Stainless-Steel-LMXS28626S/302253240', 'https://www.homedepot.com/p/Samsung-27-cu-ft-French-Door-Refrigerator-in-Fingerprint-Resistant-Black-Stainless-Steel-RF27T5201SG/312904394', 'https://www.homedepot.com/p/Whirlpool-25-cu-ft-French-Door-Refrigerator-in-Fingerprint-Resistant-Stainless-Steel-WRX735SDHZ/301859152', 'https://www.homedepot.com/p/GE-Profile-27-9-cu-ft-Smart-4-Door-French-Door-Refrigerator-with-Door-in-Door-in-Fingerprint-Resistant-Stainless-Steel-PVD28BYNFS/311411352', 'https://www.homedepot.com/p/LG-Electronics-30-in-W-21-8-cu-ft-French-Door-Refrigerator-in-Stainless-Steel-LFC22770ST/205033976', 'https://www.homedepot.com/p/Samsung-33-in-W-17-5-cu-ft-French-Door-Refrigerator-in-Stainless-Steel-and-Counter-Depth-RF18HFENBSR-2/302577277', 'https://www.homedepot.com/p/LG-Electronics-30-in-W-21-8-cu-ft-French-Door-Refrigerator-in-Stainless-Steel-LFCS22520S/206452443', 'https://www.homedepot.com/p/Whirlpool-25-cu-ft-French-Door-Refrigerator-in-Fingerprint-Resistant-Stainless-Steel-WRF555SDFZ/301711642', 'https://www.homedepot.com/p/LG-Electronics-22-cu-ft-French-Door-Smart-Refrigerator-with-Wi-Fi-Enabled-in-Stainless-Steel-Counter-Depth-LFXC22526S/306750351', 'https://www.homedepot.com/p/Samsung-28-cu-ft-4-Door-French-Door-Refrigerator-in-Fingerprint-Resistant-Stainless-Steel-RF28R7201SR/308743988', 'https://www.homedepot.com/p/GE-27-0-cu-ft-French-Door-Refrigerator-in-Fingerprint-Resistant-Stainless-Steel-ENERGY-STAR-GNE27JYMFS/312980601', 'https://www.homedepot.com/p/LG-Electronics-26-2-cu-ft-French-Door-Smart-Refrigerator-with-Wi-Fi-Enabled-in-Stainless-Steel-LFXS26973S/305573330', 'https://www.homedepot.com/p/Samsung-23-cu-ft-3-Door-French-Door-Refrigerator-in-Stainless-Steel-with-CoolSelect-Pantry-Counter-Depth-RF23R6201SR/310428856', 'https://www.homedepot.com/p/GE-18-6-cu-ft-French-Door-Refrigerator-in-Stainless-Steel-Counter-Depth-GWE19JSLSS/303345832', 'https://www.homedepot.com/p/Samsung-28-2-cu-ft-French-Door-Refrigerator-in-Stainless-Steel-RF28T5001SR/314024432', 'https://www.homedepot.com/p/LG-Electronics-23-cu-ft-Counter-Depth-3-Door-French-Door-Refrigerator-in-PrintProof-Stainless-Steel-LFCC22426S/306803830', 'https://www.homedepot.com/p/Samsung-30-in-W-21-8-cu-ft-French-Door-Refrigerator-in-Stainless-Steel-RF220NCTASR/203707196', 'https://www.homedepot.com/p/LG-Electronics-33-in-25-cu-ft-3-Door-French-Door-Refrigerator-in-PrintProof-Stainless-Steel-LRFCS25D3S/314145556', 'https://www.homedepot.com/p/LG-Electronics-26-cu-ft-3-Door-French-Door-Smart-Refrigerator-with-InstaView-Door-in-Door-in-Stainless-Steel-LFXS26596S/305712398', 'https://www.homedepot.com/p/GE-27-7-cu-ft-French-Door-Refrigerator-in-Fingerprint-Resistant-Stainless-Steel-ENERGY-STAR-GFE28GYNFS/312648552', 'https://www.homedepot.com/p/Samsung-26-5-cu-ft-Family-Hub-French-Door-Smart-Refrigerator-in-Fingerprint-Resistant-Stainless-Steel-RF27T5501SR/312904454', 'https://www.homedepot.com/p/LG-Electronics-29-5-cu-ft-Smart-French-4-Door-Door-In-Door-Full-Convert-with-Craft-Ice-Refrigerator-in-PrintProof-Stainless-Steel-LRMDS3006S/312285857', 'https://www.homedepot.com/p/GE-24-7-cu-ft-French-Door-Refrigerator-in-Stainless-Steel-ENERGY-STAR-GNE25JSKSS/206875972', 'https://www.homedepot.com/p/GE-Profile-22-1-cu-ft-French-Door-Refrigerator-with-Autofill-in-Fingerprint-Resistant-Stainless-Steel-Counter-Depth-PYE22KYNFS/312648559']\n",
      "error occured\n",
      "['https://www.homedepot.com/p/Whirlpool-25-cu-ft-French-Door-Refrigerator-in-Fingerprint-Resistant-Stainless-Steel-with-Internal-Water-Dispenser-WRF535SWHZ/301688547', 'https://www.homedepot.com/p/Samsung-27-8-cu-ft-Food-Showcase-4-Door-French-Door-Refrigerator-in-Fingerprint-Resistant-Stainless-Steel-RF28R7351SR/308946147', 'https://www.homedepot.com/p/Samsung-27-7-cu-ft-Family-Hub-4-Door-French-Door-Smart-Refrigerator-in-Fingerprint-Resistant-Stainless-Steel-RF28R7551SR/310516279', 'https://www.homedepot.com/p/KitchenAid-21-9-cu-ft-French-Door-Refrigerator-in-Stainless-Steel-Counter-Depth-KRFC302ESS/206268536', 'https://www.homedepot.com/p/Whirlpool-36-in-19-4-cu-ft-4-Door-French-Door-Refrigerator-in-Fingerprint-Resistant-Stainless-Steel-Counter-Depth-WRQA59CNKZ/313803342', 'https://www.homedepot.com/p/GE-22-1-cu-ft-French-Door-Refrigerator-in-Fingerprint-Resistant-Stainless-Steel-Counter-Depth-and-ENERGY-STAR-GYE22GYNFS/312903946', 'https://www.homedepot.com/p/KitchenAid-20-cu-ft-French-Door-Refrigerator-in-Stainless-Steel-Counter-Depth-KRFC300ESS/205905754', 'https://www.homedepot.com/p/KitchenAid-27-cu-ft-French-Door-Refrigerator-in-PrintShield-Stainless-with-Exterior-Ice-and-Water-KRFF507HPS/305444643', 'https://www.homedepot.com/p/Bosch-800-Series-36-in-21-cu-ft-French-3-Door-Refrigerator-in-Stainless-Steel-with-Dual-Compressor-Counter-Depth-B36CT80SNS/310324792', 'https://www.homedepot.com/p/Cafe-27-8-cu-ft-Smart-4-Door-French-Door-Refrigerator-in-Stainless-Steel-ENERGY-STAR-CVE28DP2NS1/311204772', 'https://www.homedepot.com/p/Samsung-22-6-cu-ft-4-Door-French-Door-Refrigerator-with-Recessed-Handle-in-Stainless-Steel-Counter-Depth-RF23M8070SR/301328396', 'https://www.homedepot.com/p/KitchenAid-20-cu-ft-French-Door-Refrigerator-in-Stainless-Steel-with-Interior-Water-Dispenser-KRFF300ESS/205947723', 'https://www.homedepot.com/p/LG-Electronics-23-cu-ft-4-Door-French-Door-Refrigerator-with-2-Freezer-Drawers-in-PrintProof-Stainless-Steel-Counter-Depth-LMWC23626S/312284889', 'https://www.homedepot.com/p/LG-Electronics-23-5-cu-ft-Smart-French-Door-Refrigerator-Dual-Ice-Makers-with-Craft-Ice-in-PrintProof-Stainless-Steel-Counter-Depth-LRFXC2416S/312284218', 'https://www.homedepot.com/p/Samsung-33-in-W-24-73-cu-ft-4-Door-French-Door-Refrigerator-in-Stainless-Steel-RF25HMIDBSR/314378030', 'https://www.homedepot.com/p/KitchenAid-22-1-cu-ft-French-Door-Refrigerator-in-Black-Stainless-with-Interior-Dispenser-KRFF302EBS/300080427', 'https://www.homedepot.com/p/LG-Electronics-29-7-cu-ft-Smart-French-Door-Refrigerator-InstaView-Door-In-Door-Dual-and-Craft-Ice-in-PrintProof-Stainless-Steel-LRMVS3006S/312285981', 'https://www.homedepot.com/p/LG-Electronics-29-7-cu-ft-Smart-French-Door-Refrigerator-InstaView-Door-In-Door-Dual-Ice-w-Craft-Ice-in-PrintProof-Stainless-Steel-LRFVS3006S/309931310', 'https://www.homedepot.com/p/LG-Electronics-21-8-cu-ft-French-Door-Refrigerator-with-External-Water-Dispenser-in-Stainless-Steel-LFDS22520S/304416120', 'https://www.homedepot.com/p/GE-23-1-cu-ft-French-Door-Refrigerator-in-Fingerprint-Resistant-Stainless-Steel-Counter-Depth-and-ENERGY-STAR-GWE23GYNFS/312920902', 'https://www.homedepot.com/p/Bosch-800-Series-36-in-21-cu-ft-French-4-Door-Refrigerator-in-Stainless-Steel-with-Dual-Compressor-Counter-Depth-B36CL80SNS/310324797', 'https://www.homedepot.com/p/LG-Electronics-22-1-cu-ft-French-Door-Smart-Refrigerator-with-InstaView-Door-in-Door-in-Stainless-Steel-Counter-Depth-LFXC22596S/306910773', 'https://www.homedepot.com/p/Samsung-33-in-W-25-5-cu-ft-French-Door-Refrigerator-in-Stainless-Steel-RF26J7510SR/314378061', 'https://www.homedepot.com/p/LG-Electronics-26-2-cu-ft-French-Door-Smart-Refrigerator-with-Wi-Fi-Enabled-in-Black-Stainless-Steel-LFXS26973D/305573375', 'https://www.homedepot.com/p/Cafe-23-1-cu-ft-Smart-French-Door-Refrigerator-in-Matte-White-Counter-Depth-and-Fingerprint-Resistant-CWE23SP4MW2/306337626', 'https://www.homedepot.com/p/Samsung-28-2-cu-ft-French-Door-Refrigerator-in-Stainless-Steel-with-internal-water-dispenser-RF28T5101SR/314024605', 'https://www.homedepot.com/p/LG-Electronics-24-50-cu-ft-3-Door-French-Door-Refrigerator-in-PrintProof-Stainless-with-Ice-and-Water-Dispenser-and-Slim-Door-Ice-LRFXS2503S/310558184']\n",
      "error occured\n",
      "error occured\n",
      "error occured\n"
     ]
    }
   ],
   "source": [
    "#for page in range(2,p):\n",
    "list_of_links = []\n",
    "french_fridge_list = []\n",
    "for page in pages:\n",
    "    try:\n",
    "        next_page = page.click()\n",
    "        extracted_links = extract_links(driver)\n",
    "        #list_of_links += french_fridge_list\n",
    "        driver.implicitly_wait(10)\n",
    "    except StaleElementReferenceException:\n",
    "        print('error occured')\n",
    "        continue\n",
    "\n",
    "\n",
    "    "
   ]
  },
  {
   "cell_type": "code",
   "execution_count": 250,
   "metadata": {},
   "outputs": [
    {
     "name": "stdout",
     "output_type": "stream",
     "text": [
      "['https://www.homedepot.com/p/Cafe-27-4-cu-ft-Smart-4-Door-Quad-French-Door-Refrigerator-in-Platinum-Glass-ENERGY-STAR-CQE28DM5NS5/312293330', 'https://www.homedepot.com/p/Whirlpool-27-cu-ft-French-Door-Refrigerator-in-Fingerprint-Resistant-Stainless-Steel-WRF757SDHZ/305447143', 'https://www.homedepot.com/p/Frigidaire-26-8-cu-ft-French-Door-Refrigerator-in-Black-Stainless-Steel-FFHB2750TD/302770046', 'https://www.homedepot.com/p/Maytag-20-cu-ft-French-Door-Refrigerator-in-Fingerprint-Resistant-Stainless-Steel-MFF2055FRZ/300135743', 'https://www.homedepot.com/p/GE-Profile-22-1-cu-ft-French-Door-Refrigerator-with-Kuerig-K-Cup-in-Fingerprint-Resistant-Stainless-Steel-Counter-Depth-PYE22PYNFS/312648547', 'https://www.homedepot.com/p/Samsung-28-cu-ft-3-Door-French-Door-Refrigerator-in-Stainless-Steel-with-AutoFill-Water-Pitcher-RF28R6221SR/312902659', 'https://www.homedepot.com/p/Samsung-28-2-cu-ft-French-Door-Refrigerator-in-Stainless-Steel-with-Autofill-Water-Pitcher-RF28T5021SR/314024523', 'https://www.homedepot.com/p/Maytag-22-cu-ft-French-Door-Refrigerator-in-Black-with-Beverage-Chiller-Compartment-MFI2269FRB/300539685', 'https://www.homedepot.com/p/Frigidaire-17-4-cu-ft-4-Door-French-Door-Refrigerator-in-Brushed-Steel-with-Adjustable-Freezer-Storage-FFBN1721TV/309054358', 'https://www.homedepot.com/p/Frigidaire-26-8-cu-ft-French-Door-Refrigerator-in-Stainless-Steel-FFHB2750TS/301708474', 'https://www.homedepot.com/p/GE-28-7-cu-ft-French-Door-Refrigerator-in-Fingerprint-Resistant-Stainless-Steel-ENERGY-STAR-GNE29GYNFS/312648555', 'https://www.homedepot.com/p/Maytag-22-cu-ft-French-Door-Refrigerator-in-White-MFI2269FRW/300539774', 'https://www.homedepot.com/p/Samsung-22-2-cu-Ft-Family-Hub-4-Door-French-Door-Recessed-Handle-Smart-Refrigerator-in-Stainless-Steel-Counter-Depth-RF23M8570SR/301328391', 'https://www.homedepot.com/p/GE-27-8-cu-ft-French-Door-Refrigerator-with-Door-in-Door-in-Fingerprint-Resistant-Stainless-Steel-GFD28GYNFS/310437241', 'https://www.homedepot.com/p/Thor-Kitchen-Counter-Depth-20-85-cu-ft-French-Door-Refrigerator-in-Stainless-Steel-HRF3601F/301897929', 'https://www.homedepot.com/p/Maytag-25-cu-ft-French-Door-Refrigerator-in-Black-with-POWER-COLD-Feature-MFI2570FEB/300562030', 'https://www.homedepot.com/p/Cafe-22-2-cu-ft-Smart-French-Door-Refrigerator-with-Keurig-K-Cup-in-Stainless-Steel-Counter-Depth-and-ENERGY-STAR-CYE22UP2MS1/308802386', 'https://www.homedepot.com/p/Cafe-18-6-cu-ft-French-Door-Refrigerator-in-Matte-White-Fingerprint-Resistant-Counter-Depth-and-ENERGY-STAR-CWE19SP4NW2/310218839', 'https://www.homedepot.com/p/Bosch-500-Series-36-in-21-6-cu-ft-French-Door-Refrigerator-in-Stainless-Steel-with-Fastest-Ice-Maker-Counter-Depth-B36CD50SNS/314916227', 'https://www.homedepot.com/p/Samsung-27-7-cu-ft-French-Door-Refrigerator-in-Stainless-Steel-with-Family-Hub-RF28T5F01SR/314024838', 'https://www.homedepot.com/p/GE-Profile-22-1-cu-ft-French-Door-Refrigerator-with-Door-in-Door-in-Fingerprint-Resistant-Stainless-Steel-Counter-Depth-PYD22KYNFS/312648544', 'https://www.homedepot.com/p/GE-Profile-27-7-cu-ft-Smart-French-Door-Refrigerator-with-Kuerig-K-Cup-in-Fingerprint-Resistant-Stainless-Steel-PFE28PYNFS/312648549', 'https://www.homedepot.com/p/GE-25-6-cu-ft-French-Door-Refrigerator-in-White-ENERGY-STAR-GFE26JGMWW/312293332', 'https://www.homedepot.com/p/LG-STUDIO-23-50-cu-ft-3-Door-French-Door-Refrigerator-in-PrintProof-Stainless-Steel-Counter-Depth-SRFVC2406S/312502496', 'https://www.homedepot.com/p/Cafe-27-8-cu-ft-Smart-French-Door-Refrigerator-with-Hot-Water-Dispenser-in-Matte-White-Fingerprint-Resistant-CFE28TP4MW2/306337624', 'https://www.homedepot.com/p/LG-Electronics-24-50-cu-ft-3-Door-French-Door-Refrigerator-in-PrintProof-Black-Stainless-Steel-with-Slim-Door-Ice-Standard-Depth-LRFXS2503D/312837884', 'https://www.homedepot.com/p/Maytag-25-cu-ft-French-Door-Refrigerator-in-Fingerprint-Resistant-Stainless-Steel-MFI2570FEZ/207141766', 'https://www.homedepot.com/p/Frigidaire-21-7-cu-ft-French-Door-Refrigerator-in-Stainless-Steel-Counter-Depth-FFHD2250TS/302133737']\n",
      "error occured\n",
      "['https://www.homedepot.com/p/Samsung-22-5-cu-ft-4-DoorFlex-French-Door-Refrigerator-in-Stainless-Steel-Counter-Depth-RF23J9011SR/205881214', 'https://www.homedepot.com/p/Bosch-800-Series-36-in-21-cu-ft-French-4-Door-Refrigerator-in-Stainless-Steel-with-Dual-Compressor-Counter-Depth-B36CL80ENS/310324783', 'https://www.homedepot.com/p/Samsung-28-cu-ft-3-Door-French-Door-Refrigerator-in-Stainless-Steel-with-Food-Showcase-Door-RF28R6301SR/310430464', 'https://www.homedepot.com/p/FRIGIDAIRE-GALLERY-36-in-W-21-7-cu-ft-4-Door-French-Door-Refrigerator-in-Smudge-Proof-Stainless-Steel-Counter-Depth-FG4H2272UF/312820436', 'https://www.homedepot.com/p/Haier-15-0-cu-ft-French-Door-Refrigerator-in-Stainless-Steel-Fingerprint-Resistant-HRF15N3AGS/300859003', 'https://www.homedepot.com/p/Samsung-25-1-cu-ft-Family-Hub-French-Door-Smart-Refrigerator-in-Stainless-Steel-RF262BEAESR/312902623', 'https://www.homedepot.com/p/Samsung-28-1-cu-ft-French-Door-Refrigerator-in-Stainless-Steel-RF28K9070SR/206839137', 'https://www.homedepot.com/p/KitchenAid-25-8-cu-ft-French-Door-Refrigerator-in-Stainless-Steel-with-Platinum-Interior-KRMF706ESS/206093715', 'https://www.homedepot.com/p/LG-Electronics-22-cu-ft-French-Door-Smart-Refrigerator-with-Wi-Fi-Enabled-in-Black-Stainless-Steel-Counter-Depth-LFXC22526D/306750367', 'https://www.homedepot.com/p/LG-Electronics-29-7-cu-ft-Smart-French-Door-Refrigerator-Door-In-Door-Dual-Ice-Makers-with-Craft-Ice-in-PrintProof-Stainless-Steel-LRFDS3016S/312284412', 'https://www.homedepot.com/p/Cafe-22-2-cu-ft-Smart-French-Door-Refrigerator-in-Stainless-Steel-Counter-Depth-and-ENERGY-STAR-CYE22TP2MS1/308802383', 'https://www.homedepot.com/p/LG-Electronics-26-cu-ft-3-Door-Smart-French-Door-Refrigerator-with-InstaView-Door-in-Door-in-Black-Stainless-Steel-LFXS26596D/308815063', 'https://www.homedepot.com/p/KitchenAid-23-8-cu-ft-French-Door-Refrigerator-in-PrintShield-Stainless-Steel-Counter-Depth-KRFC704FPS/207176320', 'https://www.homedepot.com/p/LG-Electronics-27-cu-ft-French-Door-Refrigerator-with-InstaView-Door-in-Door-in-PrintProof-Stainless-Steel-LFCS27596S/309617626', 'https://www.homedepot.com/p/LG-Electronics-27-9-cu-ft-French-Door-Smart-Refrigerator-with-Wi-Fi-Enabled-in-Stainless-Steel-LFXS28968S/302253331', 'https://www.homedepot.com/p/Samsung-27-9-cu-ft-Family-Hub-4-Door-French-Door-Smart-Refrigerator-in-Stainless-Steel-with-FlexZone-RF28N9780SR/304631541', 'https://www.homedepot.com/p/Whirlpool-20-cu-ft-French-Door-Refrigerator-in-Fingerprint-Resistant-Stainless-Steel-WRF560SEHZ/305608916', 'https://www.homedepot.com/p/Haier-16-4-cu-ft-Quad-French-Door-Freezer-Refrigerator-in-Stainless-Steel-Fingerprint-Resistant-HRQ16N3BGS/300859002', 'https://www.homedepot.com/p/LG-Electronics-28-cu-ft-4-Door-Smart-Refrigerator-with-InstaView-Door-in-Door-in-Stainless-Steel-LMXS28596S/308811049', 'https://www.homedepot.com/p/GE-Profile-23-1-cu-ft-French-Door-Refrigerator-in-Fingerprint-Resistant-Stainless-Steel-ENERGY-STAR-and-Counter-Depth-PWE23KYNFS/312648545', 'https://www.homedepot.com/p/Samsung-28-cu-ft-4-Door-Flex-French-Door-Refrigerator-in-Stainless-Steel-RF28K9380SR/206847354', 'https://www.homedepot.com/p/Bosch-800-Series-36-in-20-7-cu-ft-French-Door-Refrigerator-in-Stainless-Steel-Counter-Depth-B21CT80SNS/304807638', 'https://www.homedepot.com/p/GE-Profile-27-7-cu-ft-French-Door-Refrigerator-with-Autofill-in-Fingerprint-Resistant-Stainless-Steel-ENERGY-STAR-PFE28KYNFS/312648548', 'https://www.homedepot.com/p/Bosch-800-Series-36-in-21-cu-ft-French-Door-Refrigerator-in-Stainless-Steel-with-Dual-Compressor-Pro-Handles-Counter-Depth-B36CT81SNS/310324805']\n",
      "['https://www.homedepot.com/p/Samsung-22-5-cu-ft-4-DoorFlex-French-Door-Refrigerator-in-Stainless-Steel-Counter-Depth-RF23J9011SR/205881214', 'https://www.homedepot.com/p/Bosch-800-Series-36-in-21-cu-ft-French-4-Door-Refrigerator-in-Stainless-Steel-with-Dual-Compressor-Counter-Depth-B36CL80ENS/310324783', 'https://www.homedepot.com/p/Samsung-28-cu-ft-3-Door-French-Door-Refrigerator-in-Stainless-Steel-with-Food-Showcase-Door-RF28R6301SR/310430464', 'https://www.homedepot.com/p/FRIGIDAIRE-GALLERY-36-in-W-21-7-cu-ft-4-Door-French-Door-Refrigerator-in-Smudge-Proof-Stainless-Steel-Counter-Depth-FG4H2272UF/312820436', 'https://www.homedepot.com/p/Haier-15-0-cu-ft-French-Door-Refrigerator-in-Stainless-Steel-Fingerprint-Resistant-HRF15N3AGS/300859003', 'https://www.homedepot.com/p/Samsung-25-1-cu-ft-Family-Hub-French-Door-Smart-Refrigerator-in-Stainless-Steel-RF262BEAESR/312902623', 'https://www.homedepot.com/p/Samsung-28-1-cu-ft-French-Door-Refrigerator-in-Stainless-Steel-RF28K9070SR/206839137', 'https://www.homedepot.com/p/KitchenAid-25-8-cu-ft-French-Door-Refrigerator-in-Stainless-Steel-with-Platinum-Interior-KRMF706ESS/206093715', 'https://www.homedepot.com/p/LG-Electronics-22-cu-ft-French-Door-Smart-Refrigerator-with-Wi-Fi-Enabled-in-Black-Stainless-Steel-Counter-Depth-LFXC22526D/306750367', 'https://www.homedepot.com/p/LG-Electronics-29-7-cu-ft-Smart-French-Door-Refrigerator-Door-In-Door-Dual-Ice-Makers-with-Craft-Ice-in-PrintProof-Stainless-Steel-LRFDS3016S/312284412', 'https://www.homedepot.com/p/Cafe-22-2-cu-ft-Smart-French-Door-Refrigerator-in-Stainless-Steel-Counter-Depth-and-ENERGY-STAR-CYE22TP2MS1/308802383', 'https://www.homedepot.com/p/LG-Electronics-26-cu-ft-3-Door-Smart-French-Door-Refrigerator-with-InstaView-Door-in-Door-in-Black-Stainless-Steel-LFXS26596D/308815063', 'https://www.homedepot.com/p/KitchenAid-23-8-cu-ft-French-Door-Refrigerator-in-PrintShield-Stainless-Steel-Counter-Depth-KRFC704FPS/207176320', 'https://www.homedepot.com/p/LG-Electronics-27-cu-ft-French-Door-Refrigerator-with-InstaView-Door-in-Door-in-PrintProof-Stainless-Steel-LFCS27596S/309617626', 'https://www.homedepot.com/p/LG-Electronics-27-9-cu-ft-French-Door-Smart-Refrigerator-with-Wi-Fi-Enabled-in-Stainless-Steel-LFXS28968S/302253331', 'https://www.homedepot.com/p/Samsung-27-9-cu-ft-Family-Hub-4-Door-French-Door-Smart-Refrigerator-in-Stainless-Steel-with-FlexZone-RF28N9780SR/304631541', 'https://www.homedepot.com/p/Whirlpool-20-cu-ft-French-Door-Refrigerator-in-Fingerprint-Resistant-Stainless-Steel-WRF560SEHZ/305608916', 'https://www.homedepot.com/p/Haier-16-4-cu-ft-Quad-French-Door-Freezer-Refrigerator-in-Stainless-Steel-Fingerprint-Resistant-HRQ16N3BGS/300859002', 'https://www.homedepot.com/p/LG-Electronics-28-cu-ft-4-Door-Smart-Refrigerator-with-InstaView-Door-in-Door-in-Stainless-Steel-LMXS28596S/308811049', 'https://www.homedepot.com/p/GE-Profile-23-1-cu-ft-French-Door-Refrigerator-in-Fingerprint-Resistant-Stainless-Steel-ENERGY-STAR-and-Counter-Depth-PWE23KYNFS/312648545', 'https://www.homedepot.com/p/Samsung-28-cu-ft-4-Door-Flex-French-Door-Refrigerator-in-Stainless-Steel-RF28K9380SR/206847354', 'https://www.homedepot.com/p/Bosch-800-Series-36-in-20-7-cu-ft-French-Door-Refrigerator-in-Stainless-Steel-Counter-Depth-B21CT80SNS/304807638', 'https://www.homedepot.com/p/GE-Profile-27-7-cu-ft-French-Door-Refrigerator-with-Autofill-in-Fingerprint-Resistant-Stainless-Steel-ENERGY-STAR-PFE28KYNFS/312648548', 'https://www.homedepot.com/p/Bosch-800-Series-36-in-21-cu-ft-French-Door-Refrigerator-in-Stainless-Steel-with-Dual-Compressor-Pro-Handles-Counter-Depth-B36CT81SNS/310324805']\n",
      "error occured\n",
      "['https://www.homedepot.com/p/Cafe-25-6-cu-ft-French-Door-Refrigerator-in-Stainless-Steel-ENERGY-STAR-CFE26KP2NS1/308802378', 'https://www.homedepot.com/p/LG-Electronics-22-1-cu-ft-French-Door-Smart-Refrigerator-with-InstaView-Door-in-Door-in-Black-Stainless-Steel-Counter-Depth-LFXC22596D/308814938', 'https://www.homedepot.com/p/Cafe-18-6-cu-ft-French-Door-Refrigerator-in-Matte-Black-Fingerprint-Resistant-Counter-Depth-and-ENERGY-STAR-CWE19SP3ND1/308802376', 'https://www.homedepot.com/p/Maytag-22-cu-ft-French-Door-Refrigerator-in-White-MFI2269FRW/300539774', 'https://www.homedepot.com/p/Whirlpool-27-cu-ft-French-Door-Refrigerator-in-Fingerprint-Resistant-Stainless-Steel-WRF767SDHZ/305470672', 'https://www.homedepot.com/p/Cafe-27-8-cu-ft-Smart-French-Door-Refrigerator-with-Keurig-K-Cup-in-Stainless-Steel-ENERGY-STAR-CFE28UP2MS1/308802365', 'https://www.homedepot.com/p/Frigidaire-26-8-cu-ft-French-Door-Refrigerator-in-Ebony-FFHB2750TE/301768238', 'https://www.homedepot.com/p/Maytag-25-cu-ft-French-Door-Refrigerator-in-Black-with-POWER-COLD-Feature-MFI2570FEB/300562030', 'https://www.homedepot.com/p/Samsung-33-in-W-19-4-cu-ft-French-Door-Refrigerator-in-Black-Stainless-RF20HFENBSG/303449558', 'https://www.homedepot.com/p/GE-27-8-cu-ft-French-Door-Refrigerator-with-Door-in-Door-in-Black-Slate-Fingerprint-Resistant-GFD28GELDS/303120844', 'https://www.homedepot.com/p/GE-Profile-27-7-cu-ft-French-Door-Refrigerator-with-Hands-Free-Autofill-in-Fingerprint-Resistant-Stainless-Steel-PFD28KYNFS/312648557', 'https://www.homedepot.com/p/Maytag-25-cu-ft-French-Door-Refrigerator-in-Fingerprint-Resistant-Stainless-Steel-MFI2570FEZ/207141766', 'https://www.homedepot.com/p/FRIGIDAIRE-GALLERY-21-7-cu-ft-French-Door-Refrigerator-in-Stainless-Steel-Counter-Depth-FGHD2368TF/303177911', 'https://www.homedepot.com/p/Whirlpool-26-cu-ft-French-Door-Refrigerator-in-Fingerprint-Resistant-Stainless-Steel-WRX986SIHZ/302693556', 'https://www.homedepot.com/p/GE-27-cu-ft-French-Door-Refrigerator-in-Fingerprint-Resistant-Stainless-Steel-ENERGY-STAR-GNE27EYMFS/313759513', 'https://www.homedepot.com/p/Maytag-22-cu-ft-French-Door-Refrigerator-in-Fingerprint-Resistant-Stainless-Steel-MFF2258FEZ/300437452', 'https://www.homedepot.com/p/Bosch-800-Series-36-in-25-cu-ft-French-Door-Refrigerator-in-Stainless-Steel-Standard-Depth-B26FT50SNS/304807659', 'https://www.homedepot.com/p/Frigidaire-27-6-cu-ft-Non-Dispenser-French-Door-Refrigerator-in-Stainless-Steel-ENERGY-STAR-FFHN2750TS/301768251', 'https://www.homedepot.com/p/Forno-Moena-36-in-19-2-cu-ft-French-Door-Refrigerator-with-Ice-Maker-in-Stainless-Steel-FFRBI1820-36SB/314019442', 'https://www.homedepot.com/p/GE-20-8-cu-ft-French-Door-Refrigerator-in-Stainless-Steel-ENERGY-STAR-GNE21FSKSS/206875941', 'https://www.homedepot.com/p/Maytag-22-cu-ft-French-Door-Refrigerator-in-Fingerprint-Resistant-Stainless-Steel-MFI2269FRZ/207200047', 'https://www.homedepot.com/p/FRIGIDAIRE-GALLERY-22-4-cu-ft-Non-Dispenser-French-Door-Refrigerator-in-Smudge-Proof-Stainless-Steel-Counter-Depth-FGHG2368TF/303628987', 'https://www.homedepot.com/p/Forno-Bovino-33-in-19-cu-ft-French-Door-No-Frost-Refrigerator-in-Stainless-Steel-FFFFD1907-33SB/312994396', 'https://www.homedepot.com/p/Whirlpool-20-cu-ft-French-Door-Refrigerator-in-Fingerprint-Resistant-Stainless-Steel-WRF560SMHZ/302657616', 'https://www.homedepot.com/p/Kucht-26-1-cu-ft-36-in-W-French-Door-Refrigerator-in-Stainless-Steel-with-Interior-Ice-Maker-Standard-Depth-K748FDS/308563523', 'https://www.homedepot.com/p/LG-STUDIO-23-cu-ft-4-Door-French-Door-Refrigerator-in-Textured-Steel-with-Instaview-Door-in-Door-Counter-Depth-URNTC2306N/312706032', 'https://www.homedepot.com/p/FRIGIDAIRE-GALLERY-26-8-cu-ft-French-Door-Refrigerator-in-Smudge-Proof-Stainless-Steel-FGHB2868TF/303502648', 'https://www.homedepot.com/p/KitchenAid-21-9-cu-ft-French-Door-Refrigerator-in-Stainless-Steel-Counter-Depth-KRFC302ESS/206268536']\n"
     ]
    }
   ],
   "source": [
    "list_of_links = []\n",
    "french_fridge_list = []\n",
    "for page in pages:\n",
    "    try:\n",
    "        next_page = page.click()\n",
    "        extract_links(driver)\n",
    "        #list_of_links.append(extract_links(driver))\n",
    "        driver.implicitly_wait(10)\n",
    "    except StaleElementReferenceException:\n",
    "        print('error occured')\n",
    "        continue"
   ]
  },
  {
   "cell_type": "code",
   "execution_count": null,
   "metadata": {},
   "outputs": [],
   "source": []
  }
 ],
 "metadata": {
  "kernelspec": {
   "display_name": "Python 3",
   "language": "python",
   "name": "python3"
  },
  "language_info": {
   "codemirror_mode": {
    "name": "ipython",
    "version": 3
   },
   "file_extension": ".py",
   "mimetype": "text/x-python",
   "name": "python",
   "nbconvert_exporter": "python",
   "pygments_lexer": "ipython3",
   "version": "3.8.3"
  }
 },
 "nbformat": 4,
 "nbformat_minor": 4
}
